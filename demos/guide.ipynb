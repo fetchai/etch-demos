{
 "cells": [
  {
   "cell_type": "markdown",
   "metadata": {},
   "source": [
    "# Step-by-step walkthrough of Etch contract development and deployment"
   ]
  },
  {
   "cell_type": "markdown",
   "metadata": {},
   "source": [
    "### **Installation (for first-time use)**"
   ]
  },
  {
   "cell_type": "markdown",
   "metadata": {},
   "source": [
    "Install Anaconda (if not done already): [Download Link](<https://docs.anaconda.com/anaconda/install/>)"
   ]
  },
  {
   "cell_type": "markdown",
   "metadata": {},
   "source": [
    "Setup Python env \"etch\" for Etch contract development. It is currently tested for Python3.6.\n",
    "\n",
    "```\n",
    "conda update conda -y\n",
    "conda create -n etchenv python=3.6 -y\n",
    "conda activate etchenv\n",
    "```"
   ]
  },
  {
   "cell_type": "markdown",
   "metadata": {},
   "source": [
    "Pip install Ledger Python API. The latest version is currently alpha v0.10.x. [Resource](https://docs.fetch.ai/getting-started/python-api-install/)\n",
    "\n",
    "`pip install -U fetchai-ledger-api`\n",
    "\n",
    "Alternatively you can install directly from source:\n",
    "\n",
    "```\n",
    "git clone https://github.com/fetchai/ledger-api-py.git\n",
    "cd ledger-api-py\n",
    "pip uninstall fetchai-ledger-api\n",
    "```"
   ]
  },
  {
   "cell_type": "markdown",
   "metadata": {},
   "source": [
    "Add etchenv as an iPython kernel and restart Jupyter Notebook. That way you can see \"etchenv\" as a kernel option.\n",
    "\n",
    "`python -m ipykernel install --user --name etchenv --display-name \"etch\"`"
   ]
  },
  {
   "cell_type": "markdown",
   "metadata": {},
   "source": [
    "There are two ways settting up your Etch Ledger locally:\n",
    "    1) From Source\n",
    "    2) From Docker"
   ]
  },
  {
   "cell_type": "markdown",
   "metadata": {},
   "source": [
    "***Setting up Ledger from Source***"
   ]
  },
  {
   "cell_type": "markdown",
   "metadata": {},
   "source": [
    "Install the Fetch ledger at your workspace directory. See see Fetch [docs](https://docs.fetch.ai/) \"Getting Started\" section for instructions to do so. Currently, it is compatible with `MacOS`, `Ubuntu`, and `Redhat` systems.\n",
    "\n",
    "Once built (just `make -j 4 constellation`), move to the following directory:\n",
    "\n",
    "`cd ledger/build/apps/constellation`\n",
    "\n",
    "Run the Fetch ledger on your local testnode with the following command:\n",
    "\n",
    "`./constellation -port 8100 -block-interval 3000 -standalone`"
   ]
  },
  {
   "cell_type": "markdown",
   "metadata": {},
   "source": [
    "The output will show the following in console:\n",
    "\n",
    "```\n",
    "F E ╱     Constellation v0.4.1-rc1\n",
    "   T C     Copyright 2018-2019 (c) Fetch AI Ltd.\n",
    "     H\n",
    "\n",
    "[ 2019-06-03 16:55:20.215, # 1 INFO  :                                main ] Configuration:\n",
    "\n",
    "port......................: 8100\n",
    "network mode..............: Standalone\n",
    "num executors.............: 1\n",
    "num lanes.................: 1\n",
    "num slices................: 500\n",
    "bootstrap.................: 0\n",
    "discoverable..............: 0\n",
    "host name.................:\n",
    "external address..........: 127.0.0.1\n",
    "db-prefix.................: node_storage\n",
    "interface.................: 127.0.0.1\n",
    "mining....................: Yes\n",
    "tx processor threads......: 12\n",
    "shard verification threads: 12\n",
    "block interval............: 3000ms\n",
    "max peers.................: 3\n",
    "peers update cycle........: 0ms\n",
    "peers.....................:\n",
    "manifest.......:\n",
    " - HTTP/0: tcp://127.0.0.1:8100 (8100)\n",
    " - CORE/0: tcp://127.0.0.1:8101 (8101)\n",
    " - Lane/0: tcp://127.0.0.1:8110 (8110)\n",
    "```"
   ]
  },
  {
   "cell_type": "markdown",
   "metadata": {},
   "source": [
    "***Setting up Ledger from Docker***"
   ]
  },
  {
   "cell_type": "markdown",
   "metadata": {},
   "source": [
    "Install Docker CE engine locally (if you haven't already). [Link](https://docs.docker.com/install/linux/docker-ce/ubuntu/)"
   ]
  },
  {
   "cell_type": "markdown",
   "metadata": {},
   "source": [
    "Pull latest Constellation image from Docker Hub. [Link](https://hub.docker.com/r/fetchai/constellation)\n",
    "\n",
    "`docker pull fetchai/constellation`\n",
    "\n",
    "Run the Fetch Ledger via Docker. [Link](https://github.com/fetchai/docker-constellation/blob/master/docs/description.md)\n",
    "\n",
    "`docker run -p 8100:8100 fetchai/constellation -port 8100 -block-interval 3000 -standalone`"
   ]
  },
  {
   "cell_type": "markdown",
   "metadata": {},
   "source": [
    "The output should appear in console:\n",
    "\n",
    "```\n",
    " F E ╱     Constellation v0.9.1\n",
    "   T C     Copyright 2018-2019 (c) Fetch AI Ltd.\n",
    "     H     \n",
    "\n",
    "[I] 2019/11/27 16:19:14 | main                           : Input Configuration:\n",
    "lanes................: 1\n",
    "slices...............: 500\n",
    "block-interval.......: 3000\n",
    "standalone...........: Yes\n",
    "private-network......: No\n",
    "db-prefix............: node_storage\n",
    "port.................: 8100\n",
    "peers................: \n",
    "external.............: 127.0.0.1\n",
    "config...............: \n",
    "max-peers............: 3\n",
    "transient-peers......: 1\n",
    "peers-update-cycle-ms: 0\n",
    "disable-signing......: No\n",
    "kademlia-routing.....: Yes\n",
    "bootstrap............: No\n",
    "discoverable.........: No\n",
    "host-name............: \n",
    "network..............: \n",
    "token................: \n",
    "processor-threads....: 4\n",
    "verifier-threads.....: 4\n",
    "executors............: 1\n",
    "load-genesis-file....: No\n",
    "genesis-file-location: \n",
    "experimental.........: \n",
    "pos..................: No\n",
    "max-cabinet-size.....: 10\n",
    "stake-delay-period...: 5\n",
    "aeon-period..........: 100\n",
    "```"
   ]
  },
  {
   "cell_type": "markdown",
   "metadata": {},
   "source": [
    "The following walkthrough should work regardless of whether the Ledger is built from source or from Docker."
   ]
  },
  {
   "cell_type": "markdown",
   "metadata": {},
   "source": [
    "### **Etch Development Walkthrough**"
   ]
  },
  {
   "cell_type": "markdown",
   "metadata": {},
   "source": [
    "#### **Step 1) Setup Python API and initialize contract owner entity**"
   ]
  },
  {
   "cell_type": "markdown",
   "metadata": {},
   "source": [
    "Print the Ledger Python API version. Make sure that it is the latest. "
   ]
  },
  {
   "cell_type": "code",
   "execution_count": 370,
   "metadata": {},
   "outputs": [
    {
     "name": "stdout",
     "output_type": "stream",
     "text": [
      "0.10.0-a6\n"
     ]
    }
   ],
   "source": [
    "from fetchai.ledger import __version__ as version_string\n",
    "print(version_string)"
   ]
  },
  {
   "cell_type": "markdown",
   "metadata": {},
   "source": [
    "Import the following to access Ledger Python API"
   ]
  },
  {
   "cell_type": "code",
   "execution_count": 371,
   "metadata": {},
   "outputs": [],
   "source": [
    "from fetchai.ledger.api import LedgerApi\n",
    "from fetchai.ledger.contract import Contract\n",
    "from fetchai.ledger.crypto import Entity, Address"
   ]
  },
  {
   "cell_type": "markdown",
   "metadata": {},
   "source": [
    "Set up Python API, using your local config: "
   ]
  },
  {
   "cell_type": "code",
   "execution_count": 372,
   "metadata": {},
   "outputs": [],
   "source": [
    "# Constellation config\n",
    "HOST = '127.0.0.1'\n",
    "PORT = 8100"
   ]
  },
  {
   "cell_type": "markdown",
   "metadata": {},
   "source": [
    "Create an API instance"
   ]
  },
  {
   "cell_type": "code",
   "execution_count": 373,
   "metadata": {},
   "outputs": [],
   "source": [
    "api = LedgerApi(HOST, PORT)"
   ]
  },
  {
   "cell_type": "markdown",
   "metadata": {},
   "source": [
    "Create an Entity for owner of the Etch contract, where contains owner's public/private keypair as well as its wallet address. In the pet-shop example, the owner can be the shelter iteself."
   ]
  },
  {
   "cell_type": "code",
   "execution_count": 374,
   "metadata": {},
   "outputs": [],
   "source": [
    "# Create keypair for the contract owner\n",
    "owner = Entity()\n",
    "owner_addr = Address(owner)"
   ]
  },
  {
   "cell_type": "code",
   "execution_count": 375,
   "metadata": {},
   "outputs": [
    {
     "name": "stdout",
     "output_type": "stream",
     "text": [
      "xEeapmwLmsfMACtvuuLSBUWz9oMcwFxxMrMK9mWhdUZqYtXct\n"
     ]
    }
   ],
   "source": [
    "print(owner_addr)"
   ]
  },
  {
   "cell_type": "markdown",
   "metadata": {},
   "source": [
    "(Optional) Save the contract owner's private key to disk with a password"
   ]
  },
  {
   "cell_type": "code",
   "execution_count": 376,
   "metadata": {},
   "outputs": [],
   "source": [
    "with open('owner_private.key', 'w') as private_key_file:\n",
    "    owner.dump(private_key_file, password=\"pass\")"
   ]
  },
  {
   "cell_type": "markdown",
   "metadata": {},
   "source": [
    "#### **Step 2a) Deploy the hello-world contract**"
   ]
  },
  {
   "cell_type": "markdown",
   "metadata": {},
   "source": [
    "Read-in script from hello.etch"
   ]
  },
  {
   "cell_type": "code",
   "execution_count": 34,
   "metadata": {},
   "outputs": [],
   "source": [
    "source = \"hello-world/hello.etch\"\n",
    "\n",
    "with open(source, 'r') as file:\n",
    "    contract_text = file.read()"
   ]
  },
  {
   "cell_type": "code",
   "execution_count": 35,
   "metadata": {},
   "outputs": [
    {
     "name": "stdout",
     "output_type": "stream",
     "text": [
      "//------------------------------------------------------------------------------\n",
      "//\n",
      "//   Copyright 2019 Fetch.AI Limited\n",
      "//\n",
      "//   Licensed under the Apache License, Version 2.0 (the \"License\");\n",
      "//   you may not use this file except in compliance with the License.\n",
      "//   You may obtain a copy of the License at\n",
      "//\n",
      "//       http://www.apache.org/licenses/LICENSE-2.0\n",
      "//\n",
      "//   Unless required by applicable law or agreed to in writing, software\n",
      "//   distributed under the License is distributed on an \"AS IS\" BASIS,\n",
      "//   WITHOUT WARRANTIES OR CONDITIONS OF ANY KIND, either express or implied.\n",
      "//   See the License for the specific language governing permissions and\n",
      "//   limitations under the License.\n",
      "//\n",
      "//------------------------------------------------------------------------------\n",
      "\n",
      "// This contract require release v0.10.1 alpha or above\n",
      "// Note that this is experimental functionality\n",
      "\n",
      "\n",
      "@init\n",
      "function createMessage(owner : Address)\n",
      "\n",
      "    var name : String = \"world\";\n",
      "    var state = State<String>(\"greetings\");\n",
      "    state.set(name);\n",
      "\n",
      "\n",
      "endfunction\n",
      "\n",
      "\n",
      "@action\n",
      "function changeGreeting(target: String)\n",
      "\n",
      "    var state = State<String>(\"greetings\");\n",
      "    state.set(target);\n",
      "\n",
      "endfunction\n",
      "\n",
      "\n",
      "@query\n",
      "function persistentGreeting() : String\n",
      "\n",
      "    var state = State<String>(\"greetings\");\n",
      "    return \"Hello, \" + state.get() + \"!\";\n",
      "\n",
      "endfunction\n",
      "\n"
     ]
    }
   ],
   "source": [
    "print(contract_text)"
   ]
  },
  {
   "cell_type": "markdown",
   "metadata": {},
   "source": [
    "***TO-DO***: writeup about the contract desc"
   ]
  },
  {
   "cell_type": "markdown",
   "metadata": {},
   "source": [
    "Create contract object from contract text:"
   ]
  },
  {
   "cell_type": "code",
   "execution_count": 36,
   "metadata": {},
   "outputs": [],
   "source": [
    "contract = Contract(contract_text, owner)"
   ]
  },
  {
   "cell_type": "markdown",
   "metadata": {},
   "source": [
    "Top-up 20,000 FET tokens to owner entity in order to pay for ledger tx fees. Note: this is your local testnet so you can print new tokens at-will."
   ]
  },
  {
   "cell_type": "code",
   "execution_count": 37,
   "metadata": {},
   "outputs": [
    {
     "data": {
      "text/plain": [
       "[<fetchai.ledger.api.tx.TxStatus at 0x7f625a4c9e48>]"
      ]
     },
     "execution_count": 37,
     "metadata": {},
     "output_type": "execute_result"
    }
   ],
   "source": [
    "api.sync(api.tokens.wealth(owner, 20000))"
   ]
  },
  {
   "cell_type": "markdown",
   "metadata": {},
   "source": [
    "Print the owner's balance to confirm the 20,000 has been received"
   ]
  },
  {
   "cell_type": "code",
   "execution_count": 38,
   "metadata": {},
   "outputs": [
    {
     "name": "stdout",
     "output_type": "stream",
     "text": [
      "71506\n"
     ]
    }
   ],
   "source": [
    "print(api.tokens.balance(address=owner_addr))"
   ]
  },
  {
   "cell_type": "markdown",
   "metadata": {},
   "source": [
    "Deploy the contract on-chain, paying 10,000 in transaction fees (an arbitrary amount)."
   ]
  },
  {
   "cell_type": "code",
   "execution_count": 39,
   "metadata": {
    "scrolled": true
   },
   "outputs": [
    {
     "name": "stderr",
     "output_type": "stream",
     "text": [
      "WARNING:root:Defaulting to wildcard shard mask as none supplied\n"
     ]
    },
    {
     "data": {
      "text/plain": [
       "[<fetchai.ledger.api.tx.TxStatus at 0x7f625a52df98>]"
      ]
     },
     "execution_count": 39,
     "metadata": {},
     "output_type": "execute_result"
    }
   ],
   "source": [
    "api.sync(api.contracts.create(owner, contract, 10000))"
   ]
  },
  {
   "cell_type": "markdown",
   "metadata": {},
   "source": [
    "Alternatively Execute `python deploy.py pet` to deploy pet-shop contract."
   ]
  },
  {
   "cell_type": "markdown",
   "metadata": {},
   "source": [
    "#### **Step 2b) Interact with the hello-world contract**"
   ]
  },
  {
   "cell_type": "markdown",
   "metadata": {},
   "source": [
    "Once the contract has been successfully deployed, we can first test it by querying `persistentGreeting`."
   ]
  },
  {
   "cell_type": "code",
   "execution_count": 40,
   "metadata": {},
   "outputs": [
    {
     "name": "stdout",
     "output_type": "stream",
     "text": [
      "Hello, world!\n"
     ]
    }
   ],
   "source": [
    "# Printing message\n",
    "print(contract.query(api, 'persistentGreeting'))"
   ]
  },
  {
   "cell_type": "markdown",
   "metadata": {},
   "source": [
    "Now, let's change the greeting. First, set the transfer fee amount:"
   ]
  },
  {
   "cell_type": "code",
   "execution_count": 41,
   "metadata": {},
   "outputs": [],
   "source": [
    "# Initialize tx fee\n",
    "tok_transfer_amount = 200\n",
    "fet_tx_fee = 100"
   ]
  },
  {
   "cell_type": "markdown",
   "metadata": {},
   "source": [
    "Then change the greeting recipient:"
   ]
  },
  {
   "cell_type": "code",
   "execution_count": 42,
   "metadata": {},
   "outputs": [
    {
     "name": "stderr",
     "output_type": "stream",
     "text": [
      "WARNING:root:Couldn't auto-detect used shards, using wildcard shard mask\n",
      "WARNING:root:Defaulting to wildcard shard mask as none supplied\n"
     ]
    }
   ],
   "source": [
    "# Execute smart contract5\n",
    "recipient = \"Earth\"\n",
    "result = api.sync(contract.action(api, 'changeGreeting', fet_tx_fee, [owner], recipient))"
   ]
  },
  {
   "cell_type": "markdown",
   "metadata": {},
   "source": [
    "Print the greeting again. Now you see that it has been changed."
   ]
  },
  {
   "cell_type": "code",
   "execution_count": 43,
   "metadata": {},
   "outputs": [
    {
     "name": "stdout",
     "output_type": "stream",
     "text": [
      "Hello, Earth!\n"
     ]
    }
   ],
   "source": [
    "# Printing message\n",
    "print(contract.query(api, 'persistentGreeting'))"
   ]
  },
  {
   "cell_type": "markdown",
   "metadata": {},
   "source": [
    "#### **Step 3a) Deploy the pet-shop contract**"
   ]
  },
  {
   "cell_type": "markdown",
   "metadata": {},
   "source": [
    "Read-in script from adoption.etch"
   ]
  },
  {
   "cell_type": "code",
   "execution_count": 364,
   "metadata": {},
   "outputs": [],
   "source": [
    "source = \"pet-shop/adoption_map.etch\"\n",
    "\n",
    "with open(source, 'r') as file:\n",
    "    contract_text = file.read()"
   ]
  },
  {
   "cell_type": "markdown",
   "metadata": {},
   "source": [
    "Print adoption contract text:"
   ]
  },
  {
   "cell_type": "code",
   "execution_count": 365,
   "metadata": {},
   "outputs": [
    {
     "name": "stdout",
     "output_type": "stream",
     "text": [
      "//------------------------------------------------------------------------------\n",
      "//\n",
      "//   Copyright 2019 Fetch.AI Limited\n",
      "//\n",
      "//   Licensed under the Apache License, Version 2.0 (the \"License\");\n",
      "//   you may not use this file except in compliance with the License.\n",
      "//   You may obtain a copy of the License at\n",
      "//\n",
      "//       http://www.apache.org/licenses/LICENSE-2.0\n",
      "//\n",
      "//   Unless required by applicable law or agreed to in writing, software\n",
      "//   distributed under the License is distributed on an \"AS IS\" BASIS,\n",
      "//   WITHOUT WARRANTIES OR CONDITIONS OF ANY KIND, either express or implied.\n",
      "//   See the License for the specific language governing permissions and\n",
      "//   limitations under the License.\n",
      "//\n",
      "//------------------------------------------------------------------------------\n",
      "\n",
      "// This contract require release v0.10.1 alpha or above\n",
      "// Note that this is experimental functionality\n",
      "\n",
      "persistent adopters : Map<Int32, Address>;\n",
      "\n",
      "\n",
      "@init\n",
      "function constructor(owner : Address)\n",
      "\n",
      "    use adopters;\n",
      "    adopters.set(Map<Int32, Address>());\n",
      "\n",
      "endfunction\n",
      "\n",
      "\n",
      "@action\n",
      "function adopt(petId: Int32) : Int32\n",
      "\n",
      "    use adopters;\n",
      "    var adopt_map = adopters.get();\n",
      "\n",
      "    // assert(petId >= 0 && petId <= 15);\n",
      "    assert(petId >= 0);\n",
      "    assert(petId <= 15);\n",
      "\n",
      "    var sender_addr = getContext().transaction().from();\n",
      "    adopt_map[petId] = sender_addr;\n",
      "    adopters.set(adopt_map);\n",
      "\n",
      "    return petId;\n",
      "\n",
      "endfunction\n",
      "\n",
      "\n",
      "@query\n",
      "function getAdopters() : Map<Int32, Address>\n",
      "\n",
      "    use adopters;\n",
      "    var adopt_map = adopters.get();\n",
      "    //printLn(toString(adopt_map[10]));\n",
      "    //return adopters.count();\n",
      "    return adopters.get();\n",
      "\n",
      "endfunction\n",
      "\n",
      "\n",
      "@query\n",
      "function getAdopterOfPet(petId: Int32) : Address\n",
      "\n",
      "    use adopters;\n",
      "    var adopt_map = adopters.get();\n",
      "    return adopt_map[petId];\n",
      "\n",
      "endfunction\n",
      "\n"
     ]
    }
   ],
   "source": [
    "print(contract_text)"
   ]
  },
  {
   "cell_type": "markdown",
   "metadata": {},
   "source": [
    "***TO-DO***: writeup about the contract desc"
   ]
  },
  {
   "cell_type": "markdown",
   "metadata": {},
   "source": [
    "Create contract object from contract text:"
   ]
  },
  {
   "cell_type": "code",
   "execution_count": 366,
   "metadata": {},
   "outputs": [
    {
     "data": {
      "text/plain": [
       "['4aa32c6c886a410a6c8241af18dda5f5fb9268dd9e1807ff471bfaaa6c636695',\n",
       " '2vvL1PM4Y7q1zr2GC3hQUEFTVZNn572iHL3H5hrgGUU2bgePsj']"
      ]
     },
     "execution_count": 366,
     "metadata": {},
     "output_type": "execute_result"
    }
   ],
   "source": [
    "contract = Contract(contract_text, owner)\n",
    "\n",
    "#get contract [digest, address]\n",
    "contract.name.split('.')"
   ]
  },
  {
   "cell_type": "markdown",
   "metadata": {},
   "source": [
    "Top-up 20,000 FET tokens to owner entity in order to pay for ledger tx fees. Note: this is your local testnet so you can print new tokens at-will."
   ]
  },
  {
   "cell_type": "code",
   "execution_count": 356,
   "metadata": {},
   "outputs": [
    {
     "data": {
      "text/plain": [
       "[<fetchai.ledger.api.tx.TxStatus at 0x7f625a0eeb00>]"
      ]
     },
     "execution_count": 356,
     "metadata": {},
     "output_type": "execute_result"
    }
   ],
   "source": [
    "api.sync(api.tokens.wealth(owner, 20000))"
   ]
  },
  {
   "cell_type": "markdown",
   "metadata": {},
   "source": [
    "Print the owner's balance to confirm the 20,000 has been received"
   ]
  },
  {
   "cell_type": "code",
   "execution_count": 367,
   "metadata": {},
   "outputs": [
    {
     "name": "stdout",
     "output_type": "stream",
     "text": [
      "26446\n"
     ]
    }
   ],
   "source": [
    "print(api.tokens.balance(address=owner_addr))"
   ]
  },
  {
   "cell_type": "markdown",
   "metadata": {},
   "source": [
    "Deploy the contract on-chain, paying 10,000 in transaction fees (an arbitrary amount)."
   ]
  },
  {
   "cell_type": "code",
   "execution_count": 368,
   "metadata": {
    "scrolled": true
   },
   "outputs": [
    {
     "name": "stderr",
     "output_type": "stream",
     "text": [
      "WARNING:root:Defaulting to wildcard shard mask as none supplied\n"
     ]
    },
    {
     "data": {
      "text/plain": [
       "[<fetchai.ledger.api.tx.TxStatus at 0x7f6259f07e80>]"
      ]
     },
     "execution_count": 368,
     "metadata": {},
     "output_type": "execute_result"
    }
   ],
   "source": [
    "api.sync(api.contracts.create(owner, contract, 10000))"
   ]
  },
  {
   "cell_type": "markdown",
   "metadata": {},
   "source": [
    "Alternatively Execute `python deploy.py pet` to deploy pet-shop contract."
   ]
  },
  {
   "cell_type": "markdown",
   "metadata": {},
   "source": [
    "#### **Step 3b) Interact with the pet-shop contract**"
   ]
  },
  {
   "cell_type": "markdown",
   "metadata": {},
   "source": [
    "Create keypair for new entity that interacts with contract. In this case, this will be adopter looking to adopt a pet from the shelter."
   ]
  },
  {
   "cell_type": "code",
   "execution_count": 144,
   "metadata": {},
   "outputs": [],
   "source": [
    "adopter1 = Entity()\n",
    "adopter_addr1 = Address(adopter1)"
   ]
  },
  {
   "cell_type": "code",
   "execution_count": 145,
   "metadata": {},
   "outputs": [
    {
     "name": "stdout",
     "output_type": "stream",
     "text": [
      "2w63GpakWFkPk7uYzdbjYP4cLGMYZvRadKNAHtD3DG5y8ds5Lj\n"
     ]
    }
   ],
   "source": [
    "print(adopter_addr1)"
   ]
  },
  {
   "cell_type": "markdown",
   "metadata": {},
   "source": [
    "Top-up the adopter entity as well as the user also needs FET tokens to pyay for tx fees when interacting the the contract."
   ]
  },
  {
   "cell_type": "code",
   "execution_count": 146,
   "metadata": {},
   "outputs": [
    {
     "data": {
      "text/plain": [
       "[<fetchai.ledger.api.tx.TxStatus at 0x7f6259f480b8>]"
      ]
     },
     "execution_count": 146,
     "metadata": {},
     "output_type": "execute_result"
    }
   ],
   "source": [
    "api.sync(api.tokens.wealth(adopter1, 10000))"
   ]
  },
  {
   "cell_type": "markdown",
   "metadata": {},
   "source": [
    "Print adopter1's balance to confirm."
   ]
  },
  {
   "cell_type": "code",
   "execution_count": 147,
   "metadata": {
    "scrolled": true
   },
   "outputs": [
    {
     "name": "stdout",
     "output_type": "stream",
     "text": [
      "10000\n"
     ]
    }
   ],
   "source": [
    "print(api.tokens.balance(address=adopter1))"
   ]
  },
  {
   "cell_type": "markdown",
   "metadata": {},
   "source": [
    "First, query *getAdopters* function to see which pets are adopted."
   ]
  },
  {
   "cell_type": "code",
   "execution_count": 369,
   "metadata": {},
   "outputs": [
    {
     "ename": "RuntimeError",
     "evalue": "Failed to make requested query with no error message.",
     "output_type": "error",
     "traceback": [
      "\u001b[0;31m---------------------------------------------------------------------------\u001b[0m",
      "\u001b[0;31mRuntimeError\u001b[0m                              Traceback (most recent call last)",
      "\u001b[0;32m<ipython-input-369-db51c0971ef7>\u001b[0m in \u001b[0;36m<module>\u001b[0;34m\u001b[0m\n\u001b[1;32m      1\u001b[0m \u001b[0;31m# Printing message\u001b[0m\u001b[0;34m\u001b[0m\u001b[0;34m\u001b[0m\u001b[0;34m\u001b[0m\u001b[0m\n\u001b[0;32m----> 2\u001b[0;31m \u001b[0mresult\u001b[0m \u001b[0;34m=\u001b[0m \u001b[0mcontract\u001b[0m\u001b[0;34m.\u001b[0m\u001b[0mquery\u001b[0m\u001b[0;34m(\u001b[0m\u001b[0mapi\u001b[0m\u001b[0;34m,\u001b[0m \u001b[0;34m'getAdopters'\u001b[0m\u001b[0;34m)\u001b[0m\u001b[0;34m\u001b[0m\u001b[0;34m\u001b[0m\u001b[0m\n\u001b[0m",
      "\u001b[0;32m~/anaconda3/envs/etchenv/lib/python3.6/site-packages/fetchai_ledger_api-0.10.0a6-py3.6.egg/fetchai/ledger/contract.py\u001b[0m in \u001b[0;36mquery\u001b[0;34m(self, api, name, **kwargs)\u001b[0m\n\u001b[1;32m    135\u001b[0m                 \u001b[0;32mraise\u001b[0m \u001b[0mRuntimeError\u001b[0m\u001b[0;34m(\u001b[0m\u001b[0;34m'Failed to make requested query: '\u001b[0m \u001b[0;34m+\u001b[0m \u001b[0mresponse\u001b[0m\u001b[0;34m[\u001b[0m\u001b[0;34m\"msg\"\u001b[0m\u001b[0;34m]\u001b[0m\u001b[0;34m)\u001b[0m\u001b[0;34m\u001b[0m\u001b[0;34m\u001b[0m\u001b[0m\n\u001b[1;32m    136\u001b[0m             \u001b[0;32melse\u001b[0m\u001b[0;34m:\u001b[0m\u001b[0;34m\u001b[0m\u001b[0;34m\u001b[0m\u001b[0m\n\u001b[0;32m--> 137\u001b[0;31m                 \u001b[0;32mraise\u001b[0m \u001b[0mRuntimeError\u001b[0m\u001b[0;34m(\u001b[0m\u001b[0;34m'Failed to make requested query with no error message.'\u001b[0m\u001b[0;34m)\u001b[0m\u001b[0;34m\u001b[0m\u001b[0;34m\u001b[0m\u001b[0m\n\u001b[0m\u001b[1;32m    138\u001b[0m \u001b[0;34m\u001b[0m\u001b[0m\n\u001b[1;32m    139\u001b[0m         \u001b[0;32mreturn\u001b[0m \u001b[0mresponse\u001b[0m\u001b[0;34m[\u001b[0m\u001b[0;34m'result'\u001b[0m\u001b[0;34m]\u001b[0m\u001b[0;34m\u001b[0m\u001b[0;34m\u001b[0m\u001b[0m\n",
      "\u001b[0;31mRuntimeError\u001b[0m: Failed to make requested query with no error message."
     ]
    }
   ],
   "source": [
    "# Printing message\n",
    "result = contract.query(api, 'getAdopters')"
   ]
  },
  {
   "cell_type": "code",
   "execution_count": 90,
   "metadata": {},
   "outputs": [
    {
     "name": "stdout",
     "output_type": "stream",
     "text": [
      "h863r8WYUE7pfHxASCzwapPD9YD2DWuAo58nA4CyAhK3AwXTF\n"
     ]
    }
   ],
   "source": [
    "print(result)"
   ]
  },
  {
   "cell_type": "markdown",
   "metadata": {},
   "source": [
    "Next, pick a pet to adopt. Let's say pet on index 10."
   ]
  },
  {
   "cell_type": "code",
   "execution_count": 319,
   "metadata": {},
   "outputs": [],
   "source": [
    "# Initialize tx fee\n",
    "tok_transfer_amount = 200\n",
    "fet_tx_fee = 100"
   ]
  },
  {
   "cell_type": "code",
   "execution_count": 320,
   "metadata": {},
   "outputs": [],
   "source": [
    "# Execute smart contract5\n",
    "pet_id = 10\n",
    "result = api.sync(contract.action(api, 'adopt', fet_tx_fee, [owner], pet_id))"
   ]
  },
  {
   "cell_type": "code",
   "execution_count": 321,
   "metadata": {},
   "outputs": [
    {
     "name": "stdout",
     "output_type": "stream",
     "text": [
      "[<fetchai.ledger.api.tx.TxStatus object at 0x7f6259d8ba90>]\n"
     ]
    }
   ],
   "source": [
    "print(result)"
   ]
  },
  {
   "cell_type": "code",
   "execution_count": 322,
   "metadata": {},
   "outputs": [],
   "source": [
    "result = contract.query(api, 'getAdopterOfPet', petId=pet_id)"
   ]
  },
  {
   "cell_type": "code",
   "execution_count": 323,
   "metadata": {},
   "outputs": [
    {
     "name": "stdout",
     "output_type": "stream",
     "text": [
      "2K4ZLsVXj1ifxZS2HE7jsaK7KwoxXVFuJC1aCpQqrUkpWL3SWs\n"
     ]
    }
   ],
   "source": [
    "print(result)"
   ]
  },
  {
   "cell_type": "code",
   "execution_count": 325,
   "metadata": {},
   "outputs": [
    {
     "name": "stdout",
     "output_type": "stream",
     "text": [
      "None\n"
     ]
    }
   ],
   "source": [
    "result = contract.query(api, 'getAdopters')\n",
    "print(result)"
   ]
  },
  {
   "cell_type": "code",
   "execution_count": 159,
   "metadata": {},
   "outputs": [
    {
     "ename": "RuntimeError",
     "evalue": "Some transactions have failed: 7af5a64a99c58783ef1e0e6d515b8bde31b4e40e262e9668c9216bbedf38e25b:Insufficient charge",
     "output_type": "error",
     "traceback": [
      "\u001b[0;31m---------------------------------------------------------------------------\u001b[0m",
      "\u001b[0;31mRuntimeError\u001b[0m                              Traceback (most recent call last)",
      "\u001b[0;32m<ipython-input-159-921d5cf72dff>\u001b[0m in \u001b[0;36m<module>\u001b[0;34m\u001b[0m\n\u001b[1;32m      1\u001b[0m \u001b[0;31m# Execute smart contract5\u001b[0m\u001b[0;34m\u001b[0m\u001b[0;34m\u001b[0m\u001b[0;34m\u001b[0m\u001b[0m\n\u001b[1;32m      2\u001b[0m \u001b[0mpet_id\u001b[0m \u001b[0;34m=\u001b[0m \u001b[0;36m2\u001b[0m\u001b[0;34m\u001b[0m\u001b[0;34m\u001b[0m\u001b[0m\n\u001b[0;32m----> 3\u001b[0;31m \u001b[0mresult\u001b[0m \u001b[0;34m=\u001b[0m \u001b[0mapi\u001b[0m\u001b[0;34m.\u001b[0m\u001b[0msync\u001b[0m\u001b[0;34m(\u001b[0m\u001b[0mcontract\u001b[0m\u001b[0;34m.\u001b[0m\u001b[0maction\u001b[0m\u001b[0;34m(\u001b[0m\u001b[0mapi\u001b[0m\u001b[0;34m,\u001b[0m \u001b[0;34m'adopt'\u001b[0m\u001b[0;34m,\u001b[0m \u001b[0mfet_tx_fee\u001b[0m\u001b[0;34m,\u001b[0m \u001b[0;34m[\u001b[0m\u001b[0mowner\u001b[0m\u001b[0;34m]\u001b[0m\u001b[0;34m,\u001b[0m \u001b[0mpet_id\u001b[0m\u001b[0;34m)\u001b[0m\u001b[0;34m)\u001b[0m\u001b[0;34m\u001b[0m\u001b[0;34m\u001b[0m\u001b[0m\n\u001b[0m",
      "\u001b[0;32m~/anaconda3/envs/etchenv/lib/python3.6/site-packages/fetchai_ledger_api-0.10.0a6-py3.6.egg/fetchai/ledger/api/__init__.py\u001b[0m in \u001b[0;36msync\u001b[0;34m(self, txs, timeout, hold_state_sec, extend_success_status)\u001b[0m\n\u001b[1;32m    114\u001b[0m                 failures = ['{}:{}'.format(tx_status.digest_hex, tx_status.status) \\\n\u001b[1;32m    115\u001b[0m                             for tx_status in failed_this_round]\n\u001b[0;32m--> 116\u001b[0;31m                 \u001b[0;32mraise\u001b[0m \u001b[0mRuntimeError\u001b[0m\u001b[0;34m(\u001b[0m\u001b[0;34m'Some transactions have failed: {}'\u001b[0m\u001b[0;34m.\u001b[0m\u001b[0mformat\u001b[0m\u001b[0;34m(\u001b[0m\u001b[0;34m', '\u001b[0m\u001b[0;34m.\u001b[0m\u001b[0mjoin\u001b[0m\u001b[0;34m(\u001b[0m\u001b[0mfailures\u001b[0m\u001b[0;34m)\u001b[0m\u001b[0;34m)\u001b[0m\u001b[0;34m)\u001b[0m\u001b[0;34m\u001b[0m\u001b[0;34m\u001b[0m\u001b[0m\n\u001b[0m\u001b[1;32m    117\u001b[0m             \u001b[0mnow\u001b[0m \u001b[0;34m=\u001b[0m \u001b[0mdatetime\u001b[0m\u001b[0;34m.\u001b[0m\u001b[0mnow\u001b[0m\u001b[0;34m(\u001b[0m\u001b[0;34m)\u001b[0m\u001b[0;34m\u001b[0m\u001b[0;34m\u001b[0m\u001b[0m\n\u001b[1;32m    118\u001b[0m             \u001b[0;31m# Detect transactions with a successful status\u001b[0m\u001b[0;34m\u001b[0m\u001b[0;34m\u001b[0m\u001b[0;34m\u001b[0m\u001b[0m\n",
      "\u001b[0;31mRuntimeError\u001b[0m: Some transactions have failed: 7af5a64a99c58783ef1e0e6d515b8bde31b4e40e262e9668c9216bbedf38e25b:Insufficient charge"
     ]
    }
   ],
   "source": [
    "# Execute smart contract5\n",
    "pet_id = 2\n",
    "result = api.sync(contract.action(api, 'adopt', fet_tx_fee, [owner], pet_id))"
   ]
  },
  {
   "cell_type": "markdown",
   "metadata": {},
   "source": [
    "Query *getAdopters* to confirm that pet on index 10 has been adopted by adopter1, with adopter1's address listed."
   ]
  },
  {
   "cell_type": "code",
   "execution_count": null,
   "metadata": {},
   "outputs": [],
   "source": [
    "# Printing message\n",
    "print(contract.query(api, 'getAdopters'))"
   ]
  },
  {
   "cell_type": "markdown",
   "metadata": {},
   "source": [
    "Let's create anther adopter."
   ]
  },
  {
   "cell_type": "code",
   "execution_count": null,
   "metadata": {},
   "outputs": [],
   "source": [
    "adopter2 = Entity()\n",
    "adopter_addr2 = Address(adopter2)"
   ]
  },
  {
   "cell_type": "code",
   "execution_count": null,
   "metadata": {},
   "outputs": [],
   "source": [
    "print(adopter_addr2)"
   ]
  },
  {
   "cell_type": "code",
   "execution_count": null,
   "metadata": {},
   "outputs": [],
   "source": [
    "# Top-up the adopter\n",
    "api.sync(api.tokens.wealth(adopter2, 10000))"
   ]
  },
  {
   "cell_type": "markdown",
   "metadata": {},
   "source": [
    "Adopter2 will first try to pet on index 10. However, that execution should fail as the pet is already have taken by Adopter1."
   ]
  },
  {
   "cell_type": "code",
   "execution_count": null,
   "metadata": {},
   "outputs": [],
   "source": [
    "pet_id = 10\n",
    "result = api.sync(contract.action(api, 'adopt', fet_tx_fee, [adopter1], pet_id))"
   ]
  },
  {
   "cell_type": "markdown",
   "metadata": {},
   "source": [
    "Thus, Adopter2 will settle with the pet on index 5 instead:"
   ]
  },
  {
   "cell_type": "code",
   "execution_count": null,
   "metadata": {},
   "outputs": [],
   "source": [
    "pet_id = 5\n",
    "result = api.sync(contract.action(api, 'adopt', fet_tx_fee, [adopter1], pet_id))"
   ]
  },
  {
   "cell_type": "markdown",
   "metadata": {},
   "source": [
    "Let's take a look at *getAdopters* one last time:"
   ]
  },
  {
   "cell_type": "code",
   "execution_count": null,
   "metadata": {},
   "outputs": [],
   "source": [
    "# Printing message\n",
    "print(contract.query(api, 'getAdopters'))"
   ]
  },
  {
   "cell_type": "markdown",
   "metadata": {},
   "source": [
    "#### **Step 4a) Deploy the simple-open-auction contract**"
   ]
  },
  {
   "cell_type": "markdown",
   "metadata": {},
   "source": [
    "Now let's try to deploy a more challenging auction contract."
   ]
  },
  {
   "cell_type": "code",
   "execution_count": 377,
   "metadata": {},
   "outputs": [],
   "source": [
    "source = \"simple-open-auction/auction.etch\"\n",
    "\n",
    "with open(source, 'r') as file:\n",
    "    contract_text = file.read()"
   ]
  },
  {
   "cell_type": "markdown",
   "metadata": {},
   "source": [
    "Print auction contract text:"
   ]
  },
  {
   "cell_type": "code",
   "execution_count": 378,
   "metadata": {},
   "outputs": [
    {
     "name": "stdout",
     "output_type": "stream",
     "text": [
      " //------------------------------------------------------------------------------\n",
      "//\n",
      "//   Copyright 2019 Fetch.AI Limited\n",
      "//\n",
      "//   Licensed under the Apache License, Version 2.0 (the \"License\");\n",
      "//   you may not use this file except in compliance with the License.\n",
      "//   You may obtain a copy of the License at\n",
      "//\n",
      "//       http://www.apache.org/licenses/LICENSE-2.0\n",
      "//\n",
      "//   Unless required by applicable law or agreed to in writing, software\n",
      "//   distributed under the License is distributed on an \"AS IS\" BASIS,\n",
      "//   WITHOUT WARRANTIES OR CONDITIONS OF ANY KIND, either express or implied.\n",
      "//   See the License for the specific language governing permissions and\n",
      "//   limitations under the License.\n",
      "//\n",
      "//------------------------------------------------------------------------------\n",
      "\n",
      "// This contract require release v0.9.1 or above\n",
      "// Note that this is experimental functionality\n",
      "\n",
      "persistent beneficiary : Address;\n",
      "persistent auctionEndTime : UInt64;\n",
      "persistent highestBidder : Address;\n",
      "persistent highestBid : UInt64;\n",
      "persistent sharded pendingReturns : UInt64;\n",
      "persistent ended : Bool;\n",
      "\n",
      "\n",
      "@init\n",
      "function constructor(benefitAddr: Address)\n",
      "\n",
      "    use beneficiary;\n",
      "    use auctionEndTime;\n",
      "    use highestBidder;\n",
      "    use highestBid;\n",
      "\n",
      "    beneficiary.set(benefitAddr);\n",
      "    var now : UInt64 = getContext().block().blockNumber();\n",
      "    var biddingTime : UInt64 = 200u64;\n",
      "    auctionEndTime.set(now + biddingTime);\n",
      "\n",
      "    highestBidder.set(null);\n",
      "    highestBid.set(0u64);\n",
      "\n",
      "endfunction\n",
      "\n",
      "\n",
      "@action\n",
      "function bid()\n",
      "\n",
      "    use auctionEndTime;\n",
      "    use highestBid;\n",
      "\n",
      "    var tx = getContext().transaction();\n",
      "    var sender_addr = tx.from();\n",
      "    var sender_value = tx.getTotalTransferAmount();\n",
      "    var now = getContext().block().blockNumber();\n",
      "\n",
      "    assert(now <= auctionEndTime.get(), \"Auction already ended.\");\n",
      "    assert(sender_value > highestBid.get(), \"There already is a higher bid.\");\n",
      "\n",
      "    if(highestBid.get() != 0u64)\n",
      "        var highestBidderAddress = highestBidder.get();\n",
      "        use pendingReturns[highestBidderAddress];\n",
      "        pendingReturns.set(highestBidderAddress, highestBid.get());\n",
      "        // pendingReturns.set(highestBidderAddress, currentPendingReturns + highestBid.get());\n",
      "    endif\n",
      "\n",
      "    highestBidder.set(sender_addr);\n",
      "    highestBid.set(sender_value);\n",
      "\n",
      "endfunction\n",
      "\n",
      "\n",
      "@action\n",
      "function withdraw(): Bool\n",
      "\n",
      "    var tx = getContext().transaction();\n",
      "    var receiver_addr = tx.from();\n",
      "    use pendingReturns[receiver_addr];\n",
      "\n",
      "    var amount : UInt64 = pendingReturns.get(receiver_addr);\n",
      "    if(amount > 0u64)\n",
      "        pendingReturns.set(receiver_addr, 0u64);\n",
      "\n",
      "        if(!receiver_addr.send(amount))\n",
      "            pendingReturns.set(receiver_addr, amount);\n",
      "            return false;\n",
      "        endif\n",
      "\n",
      "    endif\n",
      "    return true;\n",
      "\n",
      "endfunction\n",
      "\n",
      "\n",
      "@action\n",
      "function endAuction()\n",
      "\n",
      "    use auctionEndTime;\n",
      "    use ended;\n",
      "    use beneficiary;\n",
      "    use highestBid;\n",
      "\n",
      "    var now = getContext().block().blockNumber();\n",
      "\n",
      "    assert(now >= auctionEndTime.get(), \"Auction not yet ended.\");\n",
      "    assert(!ended.get(), \"auctionEnd has already been called.\");\n",
      "    ended.set(true);\n",
      "    transfer(beneficiary.get(), highestBid.get());\n",
      "\n",
      "endfunction\n",
      "\n"
     ]
    }
   ],
   "source": [
    "print(contract_text)"
   ]
  },
  {
   "cell_type": "markdown",
   "metadata": {},
   "source": [
    "***TO-DO***: writeup about the contract desc"
   ]
  },
  {
   "cell_type": "markdown",
   "metadata": {},
   "source": [
    "Create contract object from contract text:"
   ]
  },
  {
   "cell_type": "code",
   "execution_count": 379,
   "metadata": {},
   "outputs": [],
   "source": [
    "contract = Contract(contract_text, owner)"
   ]
  },
  {
   "cell_type": "markdown",
   "metadata": {},
   "source": [
    "Top-up 20,000 FET tokens to owner entity in order to pay for ledger tx fees. Note: this is your local testnet so you can print new tokens at-will."
   ]
  },
  {
   "cell_type": "code",
   "execution_count": 380,
   "metadata": {},
   "outputs": [
    {
     "data": {
      "text/plain": [
       "[<fetchai.ledger.api.tx.TxStatus at 0x7f625a0ccf28>]"
      ]
     },
     "execution_count": 380,
     "metadata": {},
     "output_type": "execute_result"
    }
   ],
   "source": [
    "api.sync(api.tokens.wealth(owner, 20000))"
   ]
  },
  {
   "cell_type": "markdown",
   "metadata": {},
   "source": [
    "Print the owner's balance to confirm the 20,000 has been received"
   ]
  },
  {
   "cell_type": "code",
   "execution_count": 381,
   "metadata": {},
   "outputs": [
    {
     "name": "stdout",
     "output_type": "stream",
     "text": [
      "20000\n"
     ]
    }
   ],
   "source": [
    "print(api.tokens.balance(address=owner_addr))"
   ]
  },
  {
   "cell_type": "markdown",
   "metadata": {},
   "source": [
    "Deploy the contract on-chain, paying 10,000 in transaction fees (an arbitrary amount)."
   ]
  },
  {
   "cell_type": "code",
   "execution_count": 382,
   "metadata": {
    "scrolled": true
   },
   "outputs": [
    {
     "name": "stderr",
     "output_type": "stream",
     "text": [
      "WARNING:root:Defaulting to wildcard shard mask as none supplied\n"
     ]
    },
    {
     "ename": "RuntimeError",
     "evalue": "Some transactions have failed: 8e7ffcbbd7eba45386633b34b4efe0caf7a25e6283c733cfad29df23015aef3b:Contract Execution Failure",
     "output_type": "error",
     "traceback": [
      "\u001b[0;31m---------------------------------------------------------------------------\u001b[0m",
      "\u001b[0;31mRuntimeError\u001b[0m                              Traceback (most recent call last)",
      "\u001b[0;32m<ipython-input-382-f9caa2b3fd1d>\u001b[0m in \u001b[0;36m<module>\u001b[0;34m\u001b[0m\n\u001b[0;32m----> 1\u001b[0;31m \u001b[0mapi\u001b[0m\u001b[0;34m.\u001b[0m\u001b[0msync\u001b[0m\u001b[0;34m(\u001b[0m\u001b[0mapi\u001b[0m\u001b[0;34m.\u001b[0m\u001b[0mcontracts\u001b[0m\u001b[0;34m.\u001b[0m\u001b[0mcreate\u001b[0m\u001b[0;34m(\u001b[0m\u001b[0mowner\u001b[0m\u001b[0;34m,\u001b[0m \u001b[0mcontract\u001b[0m\u001b[0;34m,\u001b[0m \u001b[0;36m10000\u001b[0m\u001b[0;34m)\u001b[0m\u001b[0;34m)\u001b[0m\u001b[0;34m\u001b[0m\u001b[0;34m\u001b[0m\u001b[0m\n\u001b[0m",
      "\u001b[0;32m~/anaconda3/envs/etchenv/lib/python3.6/site-packages/fetchai_ledger_api-0.10.0a6-py3.6.egg/fetchai/ledger/api/__init__.py\u001b[0m in \u001b[0;36msync\u001b[0;34m(self, txs, timeout, hold_state_sec, extend_success_status)\u001b[0m\n\u001b[1;32m    114\u001b[0m                 failures = ['{}:{}'.format(tx_status.digest_hex, tx_status.status) \\\n\u001b[1;32m    115\u001b[0m                             for tx_status in failed_this_round]\n\u001b[0;32m--> 116\u001b[0;31m                 \u001b[0;32mraise\u001b[0m \u001b[0mRuntimeError\u001b[0m\u001b[0;34m(\u001b[0m\u001b[0;34m'Some transactions have failed: {}'\u001b[0m\u001b[0;34m.\u001b[0m\u001b[0mformat\u001b[0m\u001b[0;34m(\u001b[0m\u001b[0;34m', '\u001b[0m\u001b[0;34m.\u001b[0m\u001b[0mjoin\u001b[0m\u001b[0;34m(\u001b[0m\u001b[0mfailures\u001b[0m\u001b[0;34m)\u001b[0m\u001b[0;34m)\u001b[0m\u001b[0;34m)\u001b[0m\u001b[0;34m\u001b[0m\u001b[0;34m\u001b[0m\u001b[0m\n\u001b[0m\u001b[1;32m    117\u001b[0m             \u001b[0mnow\u001b[0m \u001b[0;34m=\u001b[0m \u001b[0mdatetime\u001b[0m\u001b[0;34m.\u001b[0m\u001b[0mnow\u001b[0m\u001b[0;34m(\u001b[0m\u001b[0;34m)\u001b[0m\u001b[0;34m\u001b[0m\u001b[0;34m\u001b[0m\u001b[0m\n\u001b[1;32m    118\u001b[0m             \u001b[0;31m# Detect transactions with a successful status\u001b[0m\u001b[0;34m\u001b[0m\u001b[0;34m\u001b[0m\u001b[0;34m\u001b[0m\u001b[0m\n",
      "\u001b[0;31mRuntimeError\u001b[0m: Some transactions have failed: 8e7ffcbbd7eba45386633b34b4efe0caf7a25e6283c733cfad29df23015aef3b:Contract Execution Failure"
     ]
    }
   ],
   "source": [
    "api.sync(api.contracts.create(owner, contract, 10000))"
   ]
  },
  {
   "cell_type": "markdown",
   "metadata": {},
   "source": [
    "Check the current block number:"
   ]
  },
  {
   "cell_type": "code",
   "execution_count": null,
   "metadata": {},
   "outputs": [],
   "source": []
  },
  {
   "cell_type": "markdown",
   "metadata": {},
   "source": [
    "Alternatively Execute `python deploy.py pet` to deploy pet-shop contract."
   ]
  },
  {
   "cell_type": "markdown",
   "metadata": {},
   "source": [
    "#### **Step 4b) Interact with the simple-open-auction contract**"
   ]
  },
  {
   "cell_type": "markdown",
   "metadata": {},
   "source": [
    "Create keypair for new entity that interacts with contract. In this case, this will be adopter looking to adopt a pet from the shelter."
   ]
  },
  {
   "cell_type": "code",
   "execution_count": null,
   "metadata": {},
   "outputs": [],
   "source": [
    "bidder1 = Entity()\n",
    "bidder_addr1 = Address(adopter1)\n",
    "\n",
    "print(bidder1)"
   ]
  },
  {
   "cell_type": "markdown",
   "metadata": {},
   "source": [
    "Top-up the adopter entity as well as the user also needs FET tokens to pyay for tx fees when interacting the the contract."
   ]
  },
  {
   "cell_type": "code",
   "execution_count": null,
   "metadata": {},
   "outputs": [],
   "source": [
    "api.sync(api.tokens.wealth(bidder1, 10000))"
   ]
  },
  {
   "cell_type": "markdown",
   "metadata": {},
   "source": [
    "First, query *getAdopters* function to see which pets are adopted."
   ]
  },
  {
   "cell_type": "code",
   "execution_count": null,
   "metadata": {},
   "outputs": [],
   "source": [
    "# Printing message\n",
    "print(contract.query(api, 'getAdopters'))"
   ]
  },
  {
   "cell_type": "markdown",
   "metadata": {},
   "source": [
    "Next, pick a pet to adopt. Let's say pet on index 10."
   ]
  },
  {
   "cell_type": "code",
   "execution_count": null,
   "metadata": {},
   "outputs": [],
   "source": [
    "# Initialize tx fee\n",
    "tok_transfer_amount = 200\n",
    "fet_tx_fee = 100"
   ]
  },
  {
   "cell_type": "markdown",
   "metadata": {},
   "source": [
    "make a bid amount:"
   ]
  },
  {
   "cell_type": "code",
   "execution_count": null,
   "metadata": {},
   "outputs": [],
   "source": [
    "bid_amount = 2000 \n",
    "api.sync(contract.action(api, 'bid', fet_tx_fee, bid_amount)"
   ]
  }
 ],
 "metadata": {
  "kernelspec": {
   "display_name": "etch",
   "language": "python",
   "name": "etchenv"
  },
  "language_info": {
   "codemirror_mode": {
    "name": "ipython",
    "version": 3
   },
   "file_extension": ".py",
   "mimetype": "text/x-python",
   "name": "python",
   "nbconvert_exporter": "python",
   "pygments_lexer": "ipython3",
   "version": "3.6.9"
  }
 },
 "nbformat": 4,
 "nbformat_minor": 2
}
