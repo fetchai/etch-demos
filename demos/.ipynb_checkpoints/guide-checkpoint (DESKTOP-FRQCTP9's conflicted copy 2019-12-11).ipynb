{
 "cells": [
  {
   "cell_type": "markdown",
   "metadata": {},
   "source": [
    "# Step-by-step walkthrough of Etch contract development and deployment"
   ]
  },
  {
   "cell_type": "markdown",
   "metadata": {},
   "source": [
    "### **Installation (for first-time use)**"
   ]
  },
  {
   "cell_type": "markdown",
   "metadata": {},
   "source": [
    "Install Anaconda (if not done already): [Download Link](<https://docs.anaconda.com/anaconda/install/>)"
   ]
  },
  {
   "cell_type": "markdown",
   "metadata": {},
   "source": [
    "Setup Python env \"etch\" for Etch contract development. It is currently tested for Python3.6.\n",
    "\n",
    "```\n",
    "conda update conda -y\n",
    "conda create -n etchenv python=3.6 -y\n",
    "conda activate etchenv\n",
    "```"
   ]
  },
  {
   "cell_type": "markdown",
   "metadata": {},
   "source": [
    "Pip install Ledger Python API. The latest version is currently alpha v0.10.x. [Resource](https://docs.fetch.ai/getting-started/python-api-install/)\n",
    "\n",
    "`pip install -U fetchai-ledger-api`\n",
    "\n",
    "Alternatively you can install directly from source:\n",
    "\n",
    "```\n",
    "git clone https://github.com/fetchai/ledger-api-py.git\n",
    "cd ledger-api-py\n",
    "pip uninstall fetchai-ledger-api\n",
    "```"
   ]
  },
  {
   "cell_type": "markdown",
   "metadata": {},
   "source": [
    "Add etchenv as an iPython kernel and restart Jupyter Notebook. That way you can see \"etchenv\" as a kernel option.\n",
    "\n",
    "`python -m ipykernel install --user --name etchenv --display-name \"etch\"`"
   ]
  },
  {
   "cell_type": "markdown",
   "metadata": {},
   "source": [
    "There are two ways settting up your Etch Ledger locally:\n",
    "    1) From Source\n",
    "    2) From Docker"
   ]
  },
  {
   "cell_type": "markdown",
   "metadata": {},
   "source": [
    "***Setting up Ledger from Source***"
   ]
  },
  {
   "cell_type": "markdown",
   "metadata": {},
   "source": [
    "Install the Fetch ledger at your workspace directory. See see Fetch [docs](https://docs.fetch.ai/) \"Getting Started\" section for instructions to do so. Currently, it is compatible with `MacOS`, `Ubuntu`, and `Redhat` systems.\n",
    "\n",
    "Once built (just `make -j 4 constellation`), move to the following directory:\n",
    "\n",
    "`cd ledger/build/apps/constellation`\n",
    "\n",
    "Run the Fetch ledger on your local testnode with the following command:\n",
    "\n",
    "`./constellation -port 8100 -block-interval 3000 -standalone`"
   ]
  },
  {
   "cell_type": "markdown",
   "metadata": {},
   "source": [
    "The output will show the following in console:\n",
    "\n",
    "```\n",
    "F E ╱     Constellation v0.4.1-rc1\n",
    "   T C     Copyright 2018-2019 (c) Fetch AI Ltd.\n",
    "     H\n",
    "\n",
    "[ 2019-06-03 16:55:20.215, # 1 INFO  :                                main ] Configuration:\n",
    "\n",
    "port......................: 8100\n",
    "network mode..............: Standalone\n",
    "num executors.............: 1\n",
    "num lanes.................: 1\n",
    "num slices................: 500\n",
    "bootstrap.................: 0\n",
    "discoverable..............: 0\n",
    "host name.................:\n",
    "external address..........: 127.0.0.1\n",
    "db-prefix.................: node_storage\n",
    "interface.................: 127.0.0.1\n",
    "mining....................: Yes\n",
    "tx processor threads......: 12\n",
    "shard verification threads: 12\n",
    "block interval............: 3000ms\n",
    "max peers.................: 3\n",
    "peers update cycle........: 0ms\n",
    "peers.....................:\n",
    "manifest.......:\n",
    " - HTTP/0: tcp://127.0.0.1:8100 (8100)\n",
    " - CORE/0: tcp://127.0.0.1:8101 (8101)\n",
    " - Lane/0: tcp://127.0.0.1:8110 (8110)\n",
    "```"
   ]
  },
  {
   "cell_type": "markdown",
   "metadata": {},
   "source": [
    "***Setting up Ledger from Docker***"
   ]
  },
  {
   "cell_type": "markdown",
   "metadata": {},
   "source": [
    "Install Docker CE engine locally (if you haven't already). [Link](https://docs.docker.com/install/linux/docker-ce/ubuntu/)"
   ]
  },
  {
   "cell_type": "markdown",
   "metadata": {},
   "source": [
    "Pull latest Constellation image from Docker Hub. [Link](https://hub.docker.com/r/fetchai/constellation)\n",
    "\n",
    "`docker pull fetchai/constellation`\n",
    "\n",
    "Run the Fetch Ledger via Docker. [Link](https://github.com/fetchai/docker-constellation/blob/master/docs/description.md)\n",
    "\n",
    "`docker run -p 8100:8100 fetchai/constellation -port 8100 -block-interval 3000 -standalone`"
   ]
  },
  {
   "cell_type": "markdown",
   "metadata": {},
   "source": [
    "The output should appear in console:\n",
    "\n",
    "```\n",
    " F E ╱     Constellation v0.9.1\n",
    "   T C     Copyright 2018-2019 (c) Fetch AI Ltd.\n",
    "     H     \n",
    "\n",
    "[I] 2019/11/27 16:19:14 | main                           : Input Configuration:\n",
    "lanes................: 1\n",
    "slices...............: 500\n",
    "block-interval.......: 3000\n",
    "standalone...........: Yes\n",
    "private-network......: No\n",
    "db-prefix............: node_storage\n",
    "port.................: 8100\n",
    "peers................: \n",
    "external.............: 127.0.0.1\n",
    "config...............: \n",
    "max-peers............: 3\n",
    "transient-peers......: 1\n",
    "peers-update-cycle-ms: 0\n",
    "disable-signing......: No\n",
    "kademlia-routing.....: Yes\n",
    "bootstrap............: No\n",
    "discoverable.........: No\n",
    "host-name............: \n",
    "network..............: \n",
    "token................: \n",
    "processor-threads....: 4\n",
    "verifier-threads.....: 4\n",
    "executors............: 1\n",
    "load-genesis-file....: No\n",
    "genesis-file-location: \n",
    "experimental.........: \n",
    "pos..................: No\n",
    "max-cabinet-size.....: 10\n",
    "stake-delay-period...: 5\n",
    "aeon-period..........: 100\n",
    "```"
   ]
  },
  {
   "cell_type": "markdown",
   "metadata": {},
   "source": [
    "The following walkthrough should work regardless of whether the Ledger is built from source or from Docker."
   ]
  },
  {
   "cell_type": "markdown",
   "metadata": {},
   "source": [
    "### **Etch Development Walkthrough**"
   ]
  },
  {
   "cell_type": "markdown",
   "metadata": {},
   "source": [
    "#### **Step 1) Setup Python API and initialize contract owner entity**"
   ]
  },
  {
   "cell_type": "markdown",
   "metadata": {},
   "source": [
    "Print the Ledger Python API version. Make sure that it is the latest. "
   ]
  },
  {
   "cell_type": "code",
   "execution_count": 1,
   "metadata": {},
   "outputs": [
    {
     "name": "stdout",
     "output_type": "stream",
     "text": [
      "0.11.0-a1\n"
     ]
    }
   ],
   "source": [
    "from fetchai.ledger import __version__ as version_string\n",
    "print(version_string)"
   ]
  },
  {
   "cell_type": "markdown",
   "metadata": {},
   "source": [
    "Import the following to access Ledger Python API"
   ]
  },
  {
   "cell_type": "code",
   "execution_count": 2,
   "metadata": {},
   "outputs": [],
   "source": [
    "from fetchai.ledger.api import LedgerApi\n",
    "from fetchai.ledger.contract import Contract\n",
    "from fetchai.ledger.crypto import Entity, Address"
   ]
  },
  {
   "cell_type": "markdown",
   "metadata": {},
   "source": [
    "Set up Python API, using your local config: "
   ]
  },
  {
   "cell_type": "code",
   "execution_count": 3,
   "metadata": {},
   "outputs": [],
   "source": [
    "# Constellation config\n",
    "HOST = '127.0.0.1'\n",
    "PORT = 8100"
   ]
  },
  {
   "cell_type": "markdown",
   "metadata": {},
   "source": [
    "Create an API instance"
   ]
  },
  {
   "cell_type": "code",
   "execution_count": 4,
   "metadata": {},
   "outputs": [],
   "source": [
    "api = LedgerApi(HOST, PORT)"
   ]
  },
  {
   "cell_type": "markdown",
   "metadata": {},
   "source": [
    "Create an Entity for owner of the Etch contract, where contains owner's public/private keypair as well as its wallet address. In the pet-shop example, the owner can be the shelter iteself."
   ]
  },
  {
   "cell_type": "code",
   "execution_count": 5,
   "metadata": {},
   "outputs": [],
   "source": [
    "# Create keypair for the contract owner\n",
    "owner = Entity()\n",
    "owner_addr = Address(owner)"
   ]
  },
  {
   "cell_type": "code",
   "execution_count": 6,
   "metadata": {},
   "outputs": [
    {
     "name": "stdout",
     "output_type": "stream",
     "text": [
      "2DLw5K7gfUEFDRMuaEx3ig1nZUrxUuBE8tjg1ceBShF7H2UVVg\n"
     ]
    }
   ],
   "source": [
    "print(owner_addr)"
   ]
  },
  {
   "cell_type": "markdown",
   "metadata": {},
   "source": [
    "(Optional) Save the contract owner's private key to disk with a password"
   ]
  },
  {
   "cell_type": "code",
   "execution_count": 7,
   "metadata": {},
   "outputs": [],
   "source": [
    "with open('owner_private.key', 'w') as private_key_file:\n",
    "    owner.dump(private_key_file, password=\"pass\")"
   ]
  },
  {
   "cell_type": "markdown",
   "metadata": {},
   "source": [
    "#### **Step 2a) Deploy the hello-world contract**"
   ]
  },
  {
   "cell_type": "markdown",
   "metadata": {},
   "source": [
    "Read-in script from hello.etch"
   ]
  },
  {
   "cell_type": "code",
   "execution_count": null,
   "metadata": {},
   "outputs": [],
   "source": [
    "source = \"hello-world/hello.etch\"\n",
    "\n",
    "with open(source, 'r') as file:\n",
    "    contract_text = file.read()"
   ]
  },
  {
   "cell_type": "code",
   "execution_count": null,
   "metadata": {},
   "outputs": [],
   "source": [
    "print(contract_text)"
   ]
  },
  {
   "cell_type": "markdown",
   "metadata": {},
   "source": [
    "***TO-DO***: writeup about the contract desc"
   ]
  },
  {
   "cell_type": "markdown",
   "metadata": {},
   "source": [
    "Create contract object from contract text:"
   ]
  },
  {
   "cell_type": "code",
   "execution_count": null,
   "metadata": {},
   "outputs": [],
   "source": [
    "contract1 = Contract(contract_text, owner)"
   ]
  },
  {
   "cell_type": "markdown",
   "metadata": {},
   "source": [
    "Top-up 20,000 FET tokens to owner entity in order to pay for ledger tx fees. Note: this is your local testnet so you can print new tokens at-will."
   ]
  },
  {
   "cell_type": "code",
   "execution_count": null,
   "metadata": {},
   "outputs": [],
   "source": [
    "api.sync(api.tokens.wealth(owner, 20000))"
   ]
  },
  {
   "cell_type": "markdown",
   "metadata": {},
   "source": [
    "Print the owner's balance to confirm the 20,000 has been received"
   ]
  },
  {
   "cell_type": "code",
   "execution_count": null,
   "metadata": {},
   "outputs": [],
   "source": [
    "print(api.tokens.balance(address=owner_addr))"
   ]
  },
  {
   "cell_type": "markdown",
   "metadata": {},
   "source": [
    "Deploy the contract on-chain, paying 10,000 in transaction fees (an arbitrary amount)."
   ]
  },
  {
   "cell_type": "code",
   "execution_count": null,
   "metadata": {
    "scrolled": true
   },
   "outputs": [],
   "source": [
    "api.sync(api.contracts.create(owner, contract1, 10000))"
   ]
  },
  {
   "cell_type": "markdown",
   "metadata": {},
   "source": [
    "Alternatively Execute `python deploy.py pet` to deploy pet-shop contract."
   ]
  },
  {
   "cell_type": "markdown",
   "metadata": {},
   "source": [
    "#### **Step 2b) Interact with the hello-world contract**"
   ]
  },
  {
   "cell_type": "markdown",
   "metadata": {},
   "source": [
    "Once the contract has been successfully deployed, we can first test it by querying `persistentGreeting`."
   ]
  },
  {
   "cell_type": "code",
   "execution_count": null,
   "metadata": {},
   "outputs": [],
   "source": [
    "# Printing message\n",
    "print(contract1.query(api, 'persistentGreeting'))"
   ]
  },
  {
   "cell_type": "markdown",
   "metadata": {},
   "source": [
    "Now, let's change the greeting. First, set the transfer fee amount:"
   ]
  },
  {
   "cell_type": "code",
   "execution_count": null,
   "metadata": {},
   "outputs": [],
   "source": [
    "# Initialize tx fee\n",
    "tok_transfer_amount = 200\n",
    "fet_tx_fee = 100"
   ]
  },
  {
   "cell_type": "markdown",
   "metadata": {},
   "source": [
    "Then change the greeting recipient:"
   ]
  },
  {
   "cell_type": "code",
   "execution_count": null,
   "metadata": {},
   "outputs": [],
   "source": [
    "# Execute smart contract5\n",
    "recipient = \"User123\"\n",
    "result = api.sync(contract1.action(api, 'changeGreeting', fet_tx_fee, [owner], recipient))"
   ]
  },
  {
   "cell_type": "markdown",
   "metadata": {},
   "source": [
    "Print the greeting again. Now you see that it has been changed."
   ]
  },
  {
   "cell_type": "code",
   "execution_count": null,
   "metadata": {},
   "outputs": [],
   "source": [
    "# Printing message\n",
    "print(contract1.query(api, 'persistentGreeting'))"
   ]
  },
  {
   "cell_type": "markdown",
   "metadata": {},
   "source": [
    "#### **Step 3a) Deploy the pet-shop contract**"
   ]
  },
  {
   "cell_type": "markdown",
   "metadata": {},
   "source": [
    "Read-in script from adoption.etch"
   ]
  },
  {
   "cell_type": "code",
   "execution_count": null,
   "metadata": {},
   "outputs": [],
   "source": [
    "source = \"pet-shop/adoption.etch\"\n",
    "\n",
    "with open(source, 'r') as file:\n",
    "    contract_text = file.read()"
   ]
  },
  {
   "cell_type": "markdown",
   "metadata": {},
   "source": [
    "Print adoption contract text:"
   ]
  },
  {
   "cell_type": "code",
   "execution_count": null,
   "metadata": {},
   "outputs": [],
   "source": [
    "print(contract_text)"
   ]
  },
  {
   "cell_type": "markdown",
   "metadata": {},
   "source": [
    "***TO-DO***: writeup about the contract desc"
   ]
  },
  {
   "cell_type": "markdown",
   "metadata": {},
   "source": [
    "Create contract object from contract text:"
   ]
  },
  {
   "cell_type": "code",
   "execution_count": null,
   "metadata": {},
   "outputs": [],
   "source": [
    "contract2 = Contract(contract_text, owner)\n",
    "\n",
    "#get contract [digest, address]\n",
    "contract2.name.split('.')"
   ]
  },
  {
   "cell_type": "markdown",
   "metadata": {},
   "source": [
    "Top-up 20,000 FET tokens to owner entity in order to pay for ledger tx fees. Note: this is your local testnet so you can print new tokens at-will."
   ]
  },
  {
   "cell_type": "code",
   "execution_count": null,
   "metadata": {},
   "outputs": [],
   "source": [
    "api.sync(api.tokens.wealth(owner, 20000))"
   ]
  },
  {
   "cell_type": "markdown",
   "metadata": {},
   "source": [
    "Print the owner's balance to confirm the 20,000 has been received"
   ]
  },
  {
   "cell_type": "code",
   "execution_count": null,
   "metadata": {},
   "outputs": [],
   "source": [
    "print(api.tokens.balance(address=owner_addr))"
   ]
  },
  {
   "cell_type": "markdown",
   "metadata": {},
   "source": [
    "Deploy the contract on-chain, paying 10,000 in transaction fees (an arbitrary amount)."
   ]
  },
  {
   "cell_type": "code",
   "execution_count": null,
   "metadata": {
    "scrolled": true
   },
   "outputs": [],
   "source": [
    "api.sync(api.contracts.create(owner, contract2, 10000))"
   ]
  },
  {
   "cell_type": "markdown",
   "metadata": {},
   "source": [
    "Alternatively Execute `python deploy.py pet` to deploy pet-shop contract."
   ]
  },
  {
   "cell_type": "markdown",
   "metadata": {},
   "source": [
    "#### **Step 3b) Interact with the pet-shop contract**"
   ]
  },
  {
   "cell_type": "markdown",
   "metadata": {},
   "source": [
    "In this scenario, let's say there are 4 adopters looking to adopt a pet in the pet-shop. For each adopter, create a new Entity with public/private that enables them to interact with the adoption.etch contract."
   ]
  },
  {
   "cell_type": "code",
   "execution_count": null,
   "metadata": {},
   "outputs": [],
   "source": [
    "adopter1 = Entity()\n",
    "addr1 = Address(adopter1)\n",
    "adopter2 = Entity()\n",
    "addr2 = Address(adopter2)\n",
    "adopter3 = Entity()\n",
    "addr3 = Address(adopter3)\n",
    "adopter4 = Entity()\n",
    "addr4 = Address(adopter4)"
   ]
  },
  {
   "cell_type": "code",
   "execution_count": null,
   "metadata": {},
   "outputs": [],
   "source": [
    "print(\"Adopter1's address:   \" + str(addr1))\n",
    "print(\"Adopter2's address:   \" + str(addr2))\n",
    "print(\"Adopter3's address:   \" + str(addr3))\n",
    "print(\"Adopter4's address:   \" + str(addr4))"
   ]
  },
  {
   "cell_type": "markdown",
   "metadata": {},
   "source": [
    "Top-up all the adopter entities so they have the FET tokens to pay for tx fees when interacting the the contract."
   ]
  },
  {
   "cell_type": "code",
   "execution_count": null,
   "metadata": {},
   "outputs": [],
   "source": [
    "api.sync(api.tokens.wealth(adopter1, 10000))\n",
    "api.sync(api.tokens.wealth(adopter2, 10000))\n",
    "api.sync(api.tokens.wealth(adopter3, 10000))\n",
    "api.sync(api.tokens.wealth(adopter4, 10000))"
   ]
  },
  {
   "cell_type": "markdown",
   "metadata": {},
   "source": [
    "Print adopter1's balance to confirm."
   ]
  },
  {
   "cell_type": "code",
   "execution_count": null,
   "metadata": {
    "scrolled": true
   },
   "outputs": [],
   "source": [
    "print(\"Adopter1's FET balance:   \" + str(api.tokens.balance(address=addr1)))\n",
    "print(\"Adopter2's FET balance:   \" + str(api.tokens.balance(address=addr2)))\n",
    "print(\"Adopter3's FET balance:   \" + str(api.tokens.balance(address=addr3)))\n",
    "print(\"Adopter4's FET balance:   \" + str(api.tokens.balance(address=addr3)))"
   ]
  },
  {
   "cell_type": "markdown",
   "metadata": {},
   "source": [
    "First, query `getAdopters` function to see which pets are adopted."
   ]
  },
  {
   "cell_type": "code",
   "execution_count": null,
   "metadata": {},
   "outputs": [],
   "source": [
    "# Printing message\n",
    "result = contract2.query(api, 'getAdopters')"
   ]
  },
  {
   "cell_type": "markdown",
   "metadata": {},
   "source": [
    "No pets have been adopted yet."
   ]
  },
  {
   "cell_type": "code",
   "execution_count": null,
   "metadata": {},
   "outputs": [],
   "source": [
    "print(result)"
   ]
  },
  {
   "cell_type": "markdown",
   "metadata": {},
   "source": [
    "Next, **adopter1** picks a pet to adopt. Let's say the pet on index 5."
   ]
  },
  {
   "cell_type": "code",
   "execution_count": null,
   "metadata": {},
   "outputs": [],
   "source": [
    "# First, initialize tx fee amount\n",
    "fet_tx_fee = 500"
   ]
  },
  {
   "cell_type": "code",
   "execution_count": null,
   "metadata": {},
   "outputs": [],
   "source": [
    "# Execute adoption smart contract\n",
    "pet_id = 5\n",
    "api.sync(contract2.action(api, 'adopt', fet_tx_fee, [adopter1], pet_id))"
   ]
  },
  {
   "cell_type": "markdown",
   "metadata": {},
   "source": [
    "Now `getAdopters` function should have one element."
   ]
  },
  {
   "cell_type": "code",
   "execution_count": null,
   "metadata": {},
   "outputs": [],
   "source": [
    "result = contract2.query(api, 'getAdopters')\n",
    "print(result)"
   ]
  },
  {
   "cell_type": "markdown",
   "metadata": {},
   "source": [
    "Next, **adopter2** and **adopter3** adopt pets on index 7 and 9 respectively. They may need to increase the `fet_tx_fee` in order for the tx to o through."
   ]
  },
  {
   "cell_type": "code",
   "execution_count": null,
   "metadata": {},
   "outputs": [],
   "source": [
    "pet_id = 7\n",
    "result = api.sync(contract2.action(api, 'adopt', fet_tx_fee, [adopter2], pet_id))\n",
    "pet_id = 9\n",
    "result = api.sync(contract2.action(api, 'adopt', fet_tx_fee, [adopter3], pet_id))"
   ]
  },
  {
   "cell_type": "code",
   "execution_count": null,
   "metadata": {},
   "outputs": [],
   "source": [
    "result = contract2.query(api, 'getAdopters')\n",
    "print(result)"
   ]
  },
  {
   "cell_type": "markdown",
   "metadata": {},
   "source": [
    "Finally, its **adopter4's** turn to adopt a pet, but is a bit clueless about how the system works. First, he tries to adopt a pet on index 16. However, there is no index 16 (only 0-15 is valid) so the assert error msg `assert(petId >= 0 && petId <= 15)` will instead be printed out. So there will be a runtime error in the Python SDK."
   ]
  },
  {
   "cell_type": "code",
   "execution_count": null,
   "metadata": {
    "scrolled": true
   },
   "outputs": [],
   "source": [
    "pet_id = 16\n",
    "result = api.sync(contract2.action(api, 'adopt', fet_tx_fee, [adopter4], pet_id))"
   ]
  },
  {
   "cell_type": "markdown",
   "metadata": {},
   "source": [
    "See the ledger console for the actual `assert` error message:\n",
    "\n",
    "```\n",
    "[I] 2019/11/29 18:23:41 | SmartContract                  : Runtime error: runtime error: line 40: Assertion error: Valid indexes are between 0-15.\n",
    "[W] 2019/11/29 18:23:41 | Executor                       : Transaction execution failed!\n",
    "[I] 2019/11/29 18:23:41 | BlockCoordinator               : Skipped 3 duplicate messages..\n",
    "[I] 2019/11/29 18:23:41 | BlockCoordinator               : Merkle Hash3: \n",
    "[W] 2019/11/29 18:23:41 | ExecutionManager               : Error executing tx: 0xe9c92243c469898db34feb6c51fb1793fb9b707496ed566549e272f448121c67 status: Contract Execution Failure\n",
    "[W] 2019/11/29 18:23:41 | ExecutionManager               : Slice 0 Execution Status - Complete: 0 Stalls: 0 Errors: 1 Fatal Errors: 0\n",
    "```\n"
   ]
  },
  {
   "cell_type": "markdown",
   "metadata": {},
   "source": [
    "Next, **adopter4's** tries to adopt a pet on index 9, but is already taken by **adopter3**, as outputed by assert error msg `assert(petId >= 0 && petId <= 15)`."
   ]
  },
  {
   "cell_type": "code",
   "execution_count": null,
   "metadata": {},
   "outputs": [],
   "source": [
    "pet_id = 9\n",
    "result = api.sync(contract2.action(api, 'adopt', fet_tx_fee, [adopter4], pet_id))"
   ]
  },
  {
   "cell_type": "markdown",
   "metadata": {},
   "source": [
    "Now **adopter4** has gotten the memo and decided to settle on adopting the pet on index 11, which is still available."
   ]
  },
  {
   "cell_type": "code",
   "execution_count": null,
   "metadata": {},
   "outputs": [],
   "source": [
    "pet_id = 11\n",
    "result = api.sync(contract2.action(api, 'adopt', fet_tx_fee, [adopter4], pet_id))"
   ]
  },
  {
   "cell_type": "markdown",
   "metadata": {},
   "source": [
    "Here is the final `StructuredData` printout with the 4 adopters' addresses and their chosen pet indexes."
   ]
  },
  {
   "cell_type": "code",
   "execution_count": null,
   "metadata": {
    "scrolled": true
   },
   "outputs": [],
   "source": [
    "result = contract2.query(api, 'getAdopters')\n",
    "print(result)"
   ]
  },
  {
   "cell_type": "markdown",
   "metadata": {},
   "source": [
    "#### **Step 4a) Deploy the simple-open-auction contract**"
   ]
  },
  {
   "cell_type": "markdown",
   "metadata": {},
   "source": [
    "Now let's try to deploy a more challenging auction contract."
   ]
  },
  {
   "cell_type": "code",
   "execution_count": 69,
   "metadata": {},
   "outputs": [],
   "source": [
    "source = \"simple-open-auction/auction1.etch\"\n",
    "\n",
    "with open(source, 'r') as file:\n",
    "    contract_text = file.read()"
   ]
  },
  {
   "cell_type": "markdown",
   "metadata": {},
   "source": [
    "Print auction contract text:"
   ]
  },
  {
   "cell_type": "code",
   "execution_count": 70,
   "metadata": {},
   "outputs": [
    {
     "name": "stdout",
     "output_type": "stream",
     "text": [
      " //------------------------------------------------------------------------------\n",
      "//\n",
      "//   Copyright 2019 Fetch.AI Limited\n",
      "//\n",
      "//   Licensed under the Apache License, Version 2.0 (the \"License\");\n",
      "//   you may not use this file except in compliance with the License.\n",
      "//   You may obtain a copy of the License at\n",
      "//\n",
      "//       http://www.apache.org/licenses/LICENSE-2.0\n",
      "//\n",
      "//   Unless required by applicable law or agreed to in writing, software\n",
      "//   distributed under the License is distributed on an \"AS IS\" BASIS,\n",
      "//   WITHOUT WARRANTIES OR CONDITIONS OF ANY KIND, either express or implied.\n",
      "//   See the License for the specific language governing permissions and\n",
      "//   limitations under the License.\n",
      "//\n",
      "//------------------------------------------------------------------------------\n",
      "\n",
      "// This contract require release v0.9.1 or above\n",
      "// Note that this is experimental functionality\n",
      "\n",
      "persistent beneficiary : Address;\n",
      "persistent auctionEndTime : UInt64;\n",
      "persistent highestBidder : Address;\n",
      "persistent highestBid : UInt64;\n",
      "persistent minBid : UInt64;\n",
      "persistent sharded pendingReturns : UInt64;\n",
      "persistent ended : Bool;\n",
      "\n",
      "\n",
      "@init\n",
      "function constructor(owner: Address)\n",
      "\n",
      "    use beneficiary;\n",
      "    use auctionEndTime;\n",
      "    use highestBidder;\n",
      "    use highestBid;\n",
      "    use minBid;\n",
      "\n",
      "    beneficiary.set(owner);\n",
      "    var now : UInt64 = getContext().block().blockNumber();\n",
      "    var biddingTime : UInt64 = 600u64;\n",
      "    auctionEndTime.set(now + biddingTime);\n",
      "\n",
      "    highestBidder.set(owner);\n",
      "    highestBid.set(100u64);\n",
      "    minBid.set(100u64);\n",
      "\n",
      "endfunction\n",
      "\n",
      "\n",
      "@action\n",
      "function bid(amount: UInt64)\n",
      "\n",
      "    use auctionEndTime;\n",
      "    use highestBidder;\n",
      "    use highestBid;\n",
      "    use minBid;\n",
      "\n",
      "    var tx = getContext().transaction();\n",
      "    var sender_addr = tx.from();\n",
      "    var sender_value = amount;\n",
      "    // var sender_value = tx.getTotalTransferAmount();\n",
      "    var now = getContext().block().blockNumber();\n",
      "\n",
      "    assert(now <= auctionEndTime.get(), \"Auction already ended.\");\n",
      "    assert(sender_value > highestBid.get(), \"There already is a higher bid.\");\n",
      "\n",
      "    if(highestBid.get() != minBid.get())\n",
      "        var highestBidderAddress = highestBidder.get();\n",
      "        use pendingReturns[highestBidderAddress];\n",
      "        pendingReturns.set(highestBidderAddress, highestBid.get());\n",
      "        // pendingReturns.set(highestBidderAddress, currentPendingReturns + highestBid.get());\n",
      "    endif\n",
      "\n",
      "    highestBidder.set(sender_addr);\n",
      "    highestBid.set(sender_value);\n",
      "\n",
      "endfunction\n",
      "\n",
      "\n",
      "@action\n",
      "function endAuction()\n",
      "\n",
      "    use auctionEndTime;\n",
      "    use ended;\n",
      "    use beneficiary;\n",
      "    use highestBid;\n",
      "\n",
      "    var now = getContext().block().blockNumber();\n",
      "\n",
      "    assert(now >= auctionEndTime.get(), \"Auction not yet ended.\");\n",
      "    assert(!ended.get(), \"auctionEnd has already been called.\");\n",
      "    ended.set(true);\n",
      "    transfer(beneficiary.get(), highestBid.get());\n",
      "\n",
      "endfunction\n",
      "\n",
      "\n",
      "@query\n",
      "function highestBid() : UInt64\n",
      "\n",
      "    use highestBid;\n",
      "    return highestBid.get();\n",
      "\n",
      "endfunction\n",
      "\n"
     ]
    }
   ],
   "source": [
    "print(contract_text)"
   ]
  },
  {
   "cell_type": "markdown",
   "metadata": {},
   "source": [
    "***TO-DO***: writeup about the contract desc"
   ]
  },
  {
   "cell_type": "markdown",
   "metadata": {},
   "source": [
    "Create contract object from contract text:"
   ]
  },
  {
   "cell_type": "code",
   "execution_count": 71,
   "metadata": {},
   "outputs": [],
   "source": [
    "contract3 = Contract(contract_text, owner)"
   ]
  },
  {
   "cell_type": "markdown",
   "metadata": {},
   "source": [
    "Top-up 20,000 FET tokens to owner entity in order to pay for ledger tx fees. Note: this is your local testnet so you can print new tokens at-will."
   ]
  },
  {
   "cell_type": "code",
   "execution_count": 72,
   "metadata": {},
   "outputs": [
    {
     "data": {
      "text/plain": [
       "[<fetchai.ledger.api.tx.TxStatus at 0x7fa1cc6ed2e8>]"
      ]
     },
     "execution_count": 72,
     "metadata": {},
     "output_type": "execute_result"
    }
   ],
   "source": [
    "api.sync(api.tokens.wealth(owner, 20000))"
   ]
  },
  {
   "cell_type": "markdown",
   "metadata": {},
   "source": [
    "Print the owner's balance to confirm the 20,000 has been received"
   ]
  },
  {
   "cell_type": "code",
   "execution_count": 73,
   "metadata": {},
   "outputs": [
    {
     "name": "stdout",
     "output_type": "stream",
     "text": [
      "87318\n"
     ]
    }
   ],
   "source": [
    "print(api.tokens.balance(address=owner_addr))"
   ]
  },
  {
   "cell_type": "markdown",
   "metadata": {},
   "source": [
    "Deploy the contract on-chain, paying 10,000 in transaction fees (an arbitrary amount)."
   ]
  },
  {
   "cell_type": "code",
   "execution_count": 74,
   "metadata": {
    "scrolled": true
   },
   "outputs": [
    {
     "name": "stderr",
     "output_type": "stream",
     "text": [
      "WARNING:root:Defaulting to wildcard shard mask as none supplied\n"
     ]
    },
    {
     "data": {
      "text/plain": [
       "[<fetchai.ledger.api.tx.TxStatus at 0x7fa1cc6ed048>]"
      ]
     },
     "execution_count": 74,
     "metadata": {},
     "output_type": "execute_result"
    }
   ],
   "source": [
    "api.sync(api.contracts.create(owner, contract3, 10000))"
   ]
  },
  {
   "cell_type": "markdown",
   "metadata": {},
   "source": [
    "Check the current block number:"
   ]
  },
  {
   "cell_type": "code",
   "execution_count": 75,
   "metadata": {},
   "outputs": [
    {
     "data": {
      "text/plain": [
       "69070"
      ]
     },
     "execution_count": 75,
     "metadata": {},
     "output_type": "execute_result"
    }
   ],
   "source": [
    "api.tokens._current_block_number()"
   ]
  },
  {
   "cell_type": "markdown",
   "metadata": {},
   "source": [
    "Alternatively Execute `python deploy.py pet` to deploy pet-shop contract."
   ]
  },
  {
   "cell_type": "markdown",
   "metadata": {},
   "source": [
    "#### **Step 4b) Interact with the simple-open-auction contract**"
   ]
  },
  {
   "cell_type": "markdown",
   "metadata": {},
   "source": [
    "In this scenario, let's say there are 4 bidders looking to bid in this auction. For each bidder, create a new Entity with public/private that enables them to interact with the adoption.etch contract."
   ]
  },
  {
   "cell_type": "code",
   "execution_count": 33,
   "metadata": {},
   "outputs": [],
   "source": [
    "bidder1 = Entity()\n",
    "addr1 = Address(bidder1)\n",
    "bidder2 = Entity()\n",
    "addr2 = Address(bidder2)\n",
    "bidder3 = Entity()\n",
    "addr3 = Address(bidder3)\n",
    "bidder4 = Entity()\n",
    "addr4 = Address(bidder4)"
   ]
  },
  {
   "cell_type": "code",
   "execution_count": 34,
   "metadata": {},
   "outputs": [
    {
     "name": "stdout",
     "output_type": "stream",
     "text": [
      "Bidder1's address:   Xau5kGwV3aP3GVBEphfiKTLHfaifHzYh4tiHEiy99ZaH5frFS\n",
      "Bidder2's address:   2KTXsdb8d11KumLMY7VpBySHVjhuMvGiq6F8uCoLK1g1CMawhA\n",
      "Bidder3's address:   28eSmMXbMiXHuYrXwBrUJKCiRn7Ueik97QEhdz6PYitMBBSRU7\n",
      "Bidder4's address:   2Ha6ti3j6EuMaXC1ZnEJR1MMdqrmVTUvtLe7NXKUHbyrZTMAcg\n"
     ]
    }
   ],
   "source": [
    "print(\"Bidder1's address:   \" + str(addr1))\n",
    "print(\"Bidder2's address:   \" + str(addr2))\n",
    "print(\"Bidder3's address:   \" + str(addr3))\n",
    "print(\"Bidder4's address:   \" + str(addr4))"
   ]
  },
  {
   "cell_type": "markdown",
   "metadata": {},
   "source": [
    "Top-up all the adopter entities so they have the FET tokens to pay for tx fees when interacting the the contract."
   ]
  },
  {
   "cell_type": "code",
   "execution_count": 35,
   "metadata": {},
   "outputs": [
    {
     "data": {
      "text/plain": [
       "[<fetchai.ledger.api.tx.TxStatus at 0x7fa1ccfc70f0>]"
      ]
     },
     "execution_count": 35,
     "metadata": {},
     "output_type": "execute_result"
    }
   ],
   "source": [
    "api.sync(api.tokens.wealth(bidder1, 10000))\n",
    "api.sync(api.tokens.wealth(bidder2, 10000))\n",
    "api.sync(api.tokens.wealth(bidder3, 10000))\n",
    "api.sync(api.tokens.wealth(bidder4, 10000))"
   ]
  },
  {
   "cell_type": "markdown",
   "metadata": {},
   "source": [
    "Print adopter1's balance to confirm."
   ]
  },
  {
   "cell_type": "code",
   "execution_count": 36,
   "metadata": {
    "scrolled": true
   },
   "outputs": [
    {
     "name": "stdout",
     "output_type": "stream",
     "text": [
      "Adopter1's FET balance:   10000\n",
      "Adopter2's FET balance:   10000\n",
      "Adopter3's FET balance:   10000\n",
      "Adopter4's FET balance:   10000\n"
     ]
    }
   ],
   "source": [
    "print(\"Adopter1's FET balance:   \" + str(api.tokens.balance(address=addr1)))\n",
    "print(\"Adopter2's FET balance:   \" + str(api.tokens.balance(address=addr2)))\n",
    "print(\"Adopter3's FET balance:   \" + str(api.tokens.balance(address=addr3)))\n",
    "print(\"Adopter4's FET balance:   \" + str(api.tokens.balance(address=addr3)))"
   ]
  },
  {
   "cell_type": "markdown",
   "metadata": {},
   "source": [
    "First, query `highestBid` function to see what is the current bid price of the auction."
   ]
  },
  {
   "cell_type": "code",
   "execution_count": 76,
   "metadata": {},
   "outputs": [],
   "source": [
    "# Printing message\n",
    "result = contract3.query(api, 'highestBid')"
   ]
  },
  {
   "cell_type": "markdown",
   "metadata": {},
   "source": [
    "Since no one has bidded yet, the highest bid is currently at the set minimum of 100."
   ]
  },
  {
   "cell_type": "code",
   "execution_count": 77,
   "metadata": {},
   "outputs": [
    {
     "name": "stdout",
     "output_type": "stream",
     "text": [
      "100\n"
     ]
    }
   ],
   "source": [
    "print(result)"
   ]
  },
  {
   "cell_type": "markdown",
   "metadata": {},
   "source": [
    "Next, **bidder1** will make the first bid. Let's say at 1000. Bidder will simply transfer that amount to the contract."
   ]
  },
  {
   "cell_type": "code",
   "execution_count": 78,
   "metadata": {},
   "outputs": [],
   "source": [
    "# First, initialize tx fee amount\n",
    "fet_tx_fee = 500"
   ]
  },
  {
   "cell_type": "code",
   "execution_count": 79,
   "metadata": {},
   "outputs": [
    {
     "ename": "KeyError",
     "evalue": "'highestBidderAddress'",
     "output_type": "error",
     "traceback": [
      "\u001b[0;31m---------------------------------------------------------------------------\u001b[0m",
      "\u001b[0;31mKeyError\u001b[0m                                  Traceback (most recent call last)",
      "\u001b[0;32m<ipython-input-79-d39a3559df7b>\u001b[0m in \u001b[0;36m<module>\u001b[0;34m\u001b[0m\n\u001b[1;32m      1\u001b[0m \u001b[0;31m# Execute bid smart contract\u001b[0m\u001b[0;34m\u001b[0m\u001b[0;34m\u001b[0m\u001b[0;34m\u001b[0m\u001b[0m\n\u001b[1;32m      2\u001b[0m \u001b[0mbid_amt\u001b[0m \u001b[0;34m=\u001b[0m \u001b[0;36m1000\u001b[0m\u001b[0;34m\u001b[0m\u001b[0;34m\u001b[0m\u001b[0m\n\u001b[0;32m----> 3\u001b[0;31m \u001b[0mapi\u001b[0m\u001b[0;34m.\u001b[0m\u001b[0msync\u001b[0m\u001b[0;34m(\u001b[0m\u001b[0mcontract3\u001b[0m\u001b[0;34m.\u001b[0m\u001b[0maction\u001b[0m\u001b[0;34m(\u001b[0m\u001b[0mapi\u001b[0m\u001b[0;34m,\u001b[0m \u001b[0;34m'bid'\u001b[0m\u001b[0;34m,\u001b[0m \u001b[0mfet_tx_fee\u001b[0m\u001b[0;34m,\u001b[0m \u001b[0;34m[\u001b[0m\u001b[0mbidder1\u001b[0m\u001b[0;34m]\u001b[0m\u001b[0;34m,\u001b[0m \u001b[0mbid_amt\u001b[0m\u001b[0;34m)\u001b[0m\u001b[0;34m)\u001b[0m\u001b[0;34m\u001b[0m\u001b[0;34m\u001b[0m\u001b[0m\n\u001b[0m",
      "\u001b[0;32m~/anaconda3/envs/py3.6/lib/python3.6/site-packages/fetchai_ledger_api-0.11.0a1-py3.6.egg/fetchai/ledger/contract.py\u001b[0m in \u001b[0;36maction\u001b[0;34m(self, api, name, fee, signers, *args)\u001b[0m\n\u001b[1;32m    149\u001b[0m             \u001b[0;31m# Generate resource addresses used by persistent globals\u001b[0m\u001b[0;34m\u001b[0m\u001b[0;34m\u001b[0m\u001b[0;34m\u001b[0m\u001b[0m\n\u001b[1;32m    150\u001b[0m             resource_addresses = [ShardMask.state_to_address(address, self) for address in\n\u001b[0;32m--> 151\u001b[0;31m                                   self._parser.used_globals_to_addresses(name, list(args))]\n\u001b[0m\u001b[1;32m    152\u001b[0m         \u001b[0;32mexcept\u001b[0m \u001b[0;34m(\u001b[0m\u001b[0mUnparsableAddress\u001b[0m\u001b[0;34m,\u001b[0m \u001b[0mUseWildcardShardMask\u001b[0m\u001b[0;34m,\u001b[0m \u001b[0mEtchParserError\u001b[0m\u001b[0;34m)\u001b[0m\u001b[0;34m:\u001b[0m\u001b[0;34m\u001b[0m\u001b[0;34m\u001b[0m\u001b[0m\n\u001b[1;32m    153\u001b[0m             \u001b[0mlogging\u001b[0m\u001b[0;34m.\u001b[0m\u001b[0mwarning\u001b[0m\u001b[0;34m(\u001b[0m\u001b[0;34m\"Couldn't auto-detect used shards, using wildcard shard mask\"\u001b[0m\u001b[0;34m)\u001b[0m\u001b[0;34m\u001b[0m\u001b[0;34m\u001b[0m\u001b[0m\n",
      "\u001b[0;32m~/anaconda3/envs/py3.6/lib/python3.6/site-packages/fetchai_ledger_api-0.11.0a1-py3.6.egg/fetchai/ledger/parser/etch_parser.py\u001b[0m in \u001b[0;36mused_globals_to_addresses\u001b[0;34m(self, entry_point, parameters)\u001b[0m\n\u001b[1;32m    399\u001b[0m     \u001b[0;32mdef\u001b[0m \u001b[0mused_globals_to_addresses\u001b[0m\u001b[0;34m(\u001b[0m\u001b[0mself\u001b[0m\u001b[0;34m,\u001b[0m \u001b[0mentry_point\u001b[0m\u001b[0;34m,\u001b[0m \u001b[0mparameters\u001b[0m\u001b[0;34m:\u001b[0m \u001b[0mlist\u001b[0m\u001b[0;34m)\u001b[0m\u001b[0;34m:\u001b[0m\u001b[0;34m\u001b[0m\u001b[0;34m\u001b[0m\u001b[0m\n\u001b[1;32m    400\u001b[0m         \u001b[0;31m# Identify globals used in function\u001b[0m\u001b[0;34m\u001b[0m\u001b[0;34m\u001b[0m\u001b[0;34m\u001b[0m\u001b[0m\n\u001b[0;32m--> 401\u001b[0;31m         \u001b[0mused_globals\u001b[0m \u001b[0;34m=\u001b[0m \u001b[0mself\u001b[0m\u001b[0;34m.\u001b[0m\u001b[0mglobals_used\u001b[0m\u001b[0;34m(\u001b[0m\u001b[0mentry_point\u001b[0m\u001b[0;34m,\u001b[0m \u001b[0mparameters\u001b[0m\u001b[0;34m)\u001b[0m\u001b[0;34m\u001b[0m\u001b[0;34m\u001b[0m\u001b[0m\n\u001b[0m\u001b[1;32m    402\u001b[0m         \u001b[0;31m# Build list of state addresses\u001b[0m\u001b[0;34m\u001b[0m\u001b[0;34m\u001b[0m\u001b[0;34m\u001b[0m\u001b[0m\n\u001b[1;32m    403\u001b[0m         \u001b[0maddresses\u001b[0m \u001b[0;34m=\u001b[0m \u001b[0;34m[\u001b[0m\u001b[0;34m]\u001b[0m\u001b[0;34m\u001b[0m\u001b[0;34m\u001b[0m\u001b[0m\n",
      "\u001b[0;32m~/anaconda3/envs/py3.6/lib/python3.6/site-packages/fetchai_ledger_api-0.11.0a1-py3.6.egg/fetchai/ledger/parser/etch_parser.py\u001b[0m in \u001b[0;36mglobals_used\u001b[0;34m(self, entry_point, parameter_values)\u001b[0m\n\u001b[1;32m    393\u001b[0m \u001b[0;34m\u001b[0m\u001b[0m\n\u001b[1;32m    394\u001b[0m                 \u001b[0;32mfor\u001b[0m \u001b[0msh\u001b[0m \u001b[0;32min\u001b[0m \u001b[0mshards\u001b[0m\u001b[0;34m:\u001b[0m\u001b[0;34m\u001b[0m\u001b[0;34m\u001b[0m\u001b[0m\n\u001b[0;32m--> 395\u001b[0;31m                     \u001b[0mglobals_used\u001b[0m\u001b[0;34m.\u001b[0m\u001b[0mappend\u001b[0m\u001b[0;34m(\u001b[0m\u001b[0;34m(\u001b[0m\u001b[0mg_name\u001b[0m\u001b[0;34m,\u001b[0m \u001b[0mShardUse\u001b[0m\u001b[0;34m.\u001b[0m\u001b[0mfrom_tree\u001b[0m\u001b[0;34m(\u001b[0m\u001b[0msh\u001b[0m\u001b[0;34m,\u001b[0m \u001b[0mparameters\u001b[0m\u001b[0;34m)\u001b[0m\u001b[0;34m)\u001b[0m\u001b[0;34m)\u001b[0m\u001b[0;34m\u001b[0m\u001b[0;34m\u001b[0m\u001b[0m\n\u001b[0m\u001b[1;32m    396\u001b[0m \u001b[0;34m\u001b[0m\u001b[0m\n\u001b[1;32m    397\u001b[0m         \u001b[0;32mreturn\u001b[0m \u001b[0mglobals_used\u001b[0m\u001b[0;34m\u001b[0m\u001b[0;34m\u001b[0m\u001b[0m\n",
      "\u001b[0;32m~/anaconda3/envs/py3.6/lib/python3.6/site-packages/fetchai_ledger_api-0.11.0a1-py3.6.egg/fetchai/ledger/parser/etch_parser.py\u001b[0m in \u001b[0;36mfrom_tree\u001b[0;34m(node, parameter_dict)\u001b[0m\n\u001b[1;32m     29\u001b[0m         \u001b[0;32mif\u001b[0m \u001b[0misinstance\u001b[0m\u001b[0;34m(\u001b[0m\u001b[0mnode\u001b[0m\u001b[0;34m.\u001b[0m\u001b[0mchildren\u001b[0m\u001b[0;34m[\u001b[0m\u001b[0;36m0\u001b[0m\u001b[0;34m]\u001b[0m\u001b[0;34m,\u001b[0m \u001b[0mlexer\u001b[0m\u001b[0;34m.\u001b[0m\u001b[0mToken\u001b[0m\u001b[0;34m)\u001b[0m\u001b[0;34m:\u001b[0m\u001b[0;34m\u001b[0m\u001b[0;34m\u001b[0m\u001b[0m\n\u001b[1;32m     30\u001b[0m             \u001b[0;32mif\u001b[0m \u001b[0mnode\u001b[0m\u001b[0;34m.\u001b[0m\u001b[0mchildren\u001b[0m\u001b[0;34m[\u001b[0m\u001b[0;36m0\u001b[0m\u001b[0;34m]\u001b[0m\u001b[0;34m.\u001b[0m\u001b[0mtype\u001b[0m \u001b[0;34m==\u001b[0m \u001b[0;34m'NAME'\u001b[0m\u001b[0;34m:\u001b[0m\u001b[0;34m\u001b[0m\u001b[0;34m\u001b[0m\u001b[0m\n\u001b[0;32m---> 31\u001b[0;31m                 \u001b[0;32mreturn\u001b[0m \u001b[0mparameter_dict\u001b[0m\u001b[0;34m[\u001b[0m\u001b[0mnode\u001b[0m\u001b[0;34m.\u001b[0m\u001b[0mchildren\u001b[0m\u001b[0;34m[\u001b[0m\u001b[0;36m0\u001b[0m\u001b[0;34m]\u001b[0m\u001b[0;34m.\u001b[0m\u001b[0mvalue\u001b[0m\u001b[0;34m]\u001b[0m\u001b[0;34m\u001b[0m\u001b[0;34m\u001b[0m\u001b[0m\n\u001b[0m\u001b[1;32m     32\u001b[0m             \u001b[0;32melif\u001b[0m \u001b[0mnode\u001b[0m\u001b[0;34m.\u001b[0m\u001b[0mchildren\u001b[0m\u001b[0;34m[\u001b[0m\u001b[0;36m0\u001b[0m\u001b[0;34m]\u001b[0m\u001b[0;34m.\u001b[0m\u001b[0mtype\u001b[0m \u001b[0;34m==\u001b[0m \u001b[0;34m'STRING_LITERAL'\u001b[0m\u001b[0;34m:\u001b[0m\u001b[0;34m\u001b[0m\u001b[0;34m\u001b[0m\u001b[0m\n\u001b[1;32m     33\u001b[0m                 \u001b[0;32mreturn\u001b[0m \u001b[0mStringLiteral\u001b[0m\u001b[0;34m(\u001b[0m\u001b[0mnode\u001b[0m\u001b[0;34m.\u001b[0m\u001b[0mchildren\u001b[0m\u001b[0;34m[\u001b[0m\u001b[0;36m0\u001b[0m\u001b[0;34m]\u001b[0m\u001b[0;34m.\u001b[0m\u001b[0mvalue\u001b[0m\u001b[0;34m)\u001b[0m\u001b[0;34m\u001b[0m\u001b[0;34m\u001b[0m\u001b[0m\n",
      "\u001b[0;31mKeyError\u001b[0m: 'highestBidderAddress'"
     ]
    }
   ],
   "source": [
    "# Execute bid smart contract\n",
    "bid_amt = 1000\n",
    "api.sync(contract3.action(api, 'bid', fet_tx_fee, [bidder1], bid_amt))"
   ]
  },
  {
   "cell_type": "markdown",
   "metadata": {},
   "source": [
    "Now `getAdopters` function should have one element."
   ]
  },
  {
   "cell_type": "code",
   "execution_count": null,
   "metadata": {},
   "outputs": [],
   "source": [
    "result = contract2.query(api, 'getAdopters')\n",
    "print(result)"
   ]
  },
  {
   "cell_type": "markdown",
   "metadata": {},
   "source": [
    "Next, **adopter2** and **adopter3** adopt pets on index 7 and 9 respectively. They may need to increase the `fet_tx_fee` in order for the tx to o through."
   ]
  },
  {
   "cell_type": "code",
   "execution_count": null,
   "metadata": {},
   "outputs": [],
   "source": [
    "pet_id = 7\n",
    "result = api.sync(contract2.action(api, 'adopt', fet_tx_fee, [adopter2], pet_id))\n",
    "pet_id = 9\n",
    "result = api.sync(contract2.action(api, 'adopt', fet_tx_fee, [adopter3], pet_id))"
   ]
  },
  {
   "cell_type": "code",
   "execution_count": null,
   "metadata": {},
   "outputs": [],
   "source": [
    "result = contract2.query(api, 'getAdopters')\n",
    "print(result)"
   ]
  },
  {
   "cell_type": "code",
   "execution_count": null,
   "metadata": {},
   "outputs": [],
   "source": []
  },
  {
   "cell_type": "code",
   "execution_count": null,
   "metadata": {},
   "outputs": [],
   "source": []
  },
  {
   "cell_type": "code",
   "execution_count": null,
   "metadata": {},
   "outputs": [],
   "source": []
  },
  {
   "cell_type": "code",
   "execution_count": null,
   "metadata": {},
   "outputs": [],
   "source": []
  },
  {
   "cell_type": "code",
   "execution_count": null,
   "metadata": {},
   "outputs": [],
   "source": []
  },
  {
   "cell_type": "code",
   "execution_count": null,
   "metadata": {},
   "outputs": [],
   "source": []
  },
  {
   "cell_type": "code",
   "execution_count": null,
   "metadata": {},
   "outputs": [],
   "source": []
  },
  {
   "cell_type": "code",
   "execution_count": null,
   "metadata": {},
   "outputs": [],
   "source": []
  },
  {
   "cell_type": "code",
   "execution_count": null,
   "metadata": {},
   "outputs": [],
   "source": []
  },
  {
   "cell_type": "code",
   "execution_count": null,
   "metadata": {},
   "outputs": [],
   "source": []
  },
  {
   "cell_type": "code",
   "execution_count": null,
   "metadata": {},
   "outputs": [],
   "source": []
  },
  {
   "cell_type": "code",
   "execution_count": null,
   "metadata": {},
   "outputs": [],
   "source": []
  },
  {
   "cell_type": "code",
   "execution_count": null,
   "metadata": {},
   "outputs": [],
   "source": []
  },
  {
   "cell_type": "code",
   "execution_count": null,
   "metadata": {},
   "outputs": [],
   "source": []
  },
  {
   "cell_type": "code",
   "execution_count": null,
   "metadata": {},
   "outputs": [],
   "source": []
  },
  {
   "cell_type": "code",
   "execution_count": null,
   "metadata": {},
   "outputs": [],
   "source": []
  },
  {
   "cell_type": "code",
   "execution_count": null,
   "metadata": {},
   "outputs": [],
   "source": []
  },
  {
   "cell_type": "code",
   "execution_count": null,
   "metadata": {},
   "outputs": [],
   "source": []
  },
  {
   "cell_type": "code",
   "execution_count": null,
   "metadata": {},
   "outputs": [],
   "source": []
  },
  {
   "cell_type": "code",
   "execution_count": null,
   "metadata": {},
   "outputs": [],
   "source": []
  },
  {
   "cell_type": "code",
   "execution_count": null,
   "metadata": {},
   "outputs": [],
   "source": []
  },
  {
   "cell_type": "code",
   "execution_count": null,
   "metadata": {},
   "outputs": [],
   "source": []
  },
  {
   "cell_type": "code",
   "execution_count": null,
   "metadata": {},
   "outputs": [],
   "source": []
  },
  {
   "cell_type": "code",
   "execution_count": null,
   "metadata": {},
   "outputs": [],
   "source": []
  },
  {
   "cell_type": "code",
   "execution_count": null,
   "metadata": {},
   "outputs": [],
   "source": []
  },
  {
   "cell_type": "code",
   "execution_count": null,
   "metadata": {},
   "outputs": [],
   "source": []
  },
  {
   "cell_type": "code",
   "execution_count": null,
   "metadata": {},
   "outputs": [],
   "source": []
  },
  {
   "cell_type": "code",
   "execution_count": null,
   "metadata": {},
   "outputs": [],
   "source": []
  },
  {
   "cell_type": "code",
   "execution_count": null,
   "metadata": {},
   "outputs": [],
   "source": []
  },
  {
   "cell_type": "code",
   "execution_count": null,
   "metadata": {},
   "outputs": [],
   "source": []
  },
  {
   "cell_type": "code",
   "execution_count": null,
   "metadata": {},
   "outputs": [],
   "source": []
  },
  {
   "cell_type": "code",
   "execution_count": null,
   "metadata": {},
   "outputs": [],
   "source": []
  },
  {
   "cell_type": "code",
   "execution_count": null,
   "metadata": {},
   "outputs": [],
   "source": []
  },
  {
   "cell_type": "code",
   "execution_count": null,
   "metadata": {},
   "outputs": [],
   "source": []
  },
  {
   "cell_type": "code",
   "execution_count": null,
   "metadata": {},
   "outputs": [],
   "source": []
  },
  {
   "cell_type": "code",
   "execution_count": null,
   "metadata": {},
   "outputs": [],
   "source": []
  },
  {
   "cell_type": "code",
   "execution_count": null,
   "metadata": {},
   "outputs": [],
   "source": [
    "bidder1 = Entity()\n",
    "bidder_addr1 = Address(adopter1)\n",
    "\n",
    "print(bidder1)"
   ]
  },
  {
   "cell_type": "markdown",
   "metadata": {},
   "source": [
    "Top-up the adopter entity as well as the user also needs FET tokens to pyay for tx fees when interacting the the contract."
   ]
  },
  {
   "cell_type": "code",
   "execution_count": null,
   "metadata": {},
   "outputs": [],
   "source": [
    "api.sync(api.tokens.wealth(bidder1, 10000))"
   ]
  },
  {
   "cell_type": "markdown",
   "metadata": {},
   "source": [
    "First, query *getAdopters* function to see which pets are adopted."
   ]
  },
  {
   "cell_type": "code",
   "execution_count": null,
   "metadata": {},
   "outputs": [],
   "source": [
    "# Printing message\n",
    "print(contract.query(api, 'getAdopters'))"
   ]
  },
  {
   "cell_type": "markdown",
   "metadata": {},
   "source": [
    "Next, pick a pet to adopt. Let's say pet on index 10."
   ]
  },
  {
   "cell_type": "code",
   "execution_count": null,
   "metadata": {},
   "outputs": [],
   "source": [
    "# Initialize tx fee\n",
    "tok_transfer_amount = 200\n",
    "fet_tx_fee = 100"
   ]
  },
  {
   "cell_type": "markdown",
   "metadata": {},
   "source": [
    "make a bid amount:"
   ]
  },
  {
   "cell_type": "code",
   "execution_count": null,
   "metadata": {},
   "outputs": [],
   "source": [
    "bid_amount = 2000 \n",
    "api.sync(contract.action(api, 'bid', fet_tx_fee, bid_amount)"
   ]
  }
 ],
 "metadata": {
  "kernelspec": {
   "display_name": "Python 3.6",
   "language": "python",
   "name": "py3.6"
  },
  "language_info": {
   "codemirror_mode": {
    "name": "ipython",
    "version": 3
   },
   "file_extension": ".py",
   "mimetype": "text/x-python",
   "name": "python",
   "nbconvert_exporter": "python",
   "pygments_lexer": "ipython3",
   "version": "3.6.9"
  }
 },
 "nbformat": 4,
 "nbformat_minor": 2
}
