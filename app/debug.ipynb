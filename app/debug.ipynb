{
 "cells": [
  {
   "cell_type": "code",
   "execution_count": 1,
   "metadata": {},
   "outputs": [],
   "source": [
    "from fetchai.ledger.api import LedgerApi\n",
    "from fetchai.ledger.contract import Contract\n",
    "from fetchai.ledger.crypto import Entity, Address\n",
    "from utils.session import Session"
   ]
  },
  {
   "cell_type": "code",
   "execution_count": 2,
   "metadata": {},
   "outputs": [],
   "source": [
    "NETWORK = 'localhost'\n",
    "PORT = 8100\n",
    "session = Session(NETWORK, PORT)"
   ]
  },
  {
   "cell_type": "code",
   "execution_count": 3,
   "metadata": {},
   "outputs": [
    {
     "name": "stdout",
     "output_type": "stream",
     "text": [
      "1331\n"
     ]
    }
   ],
   "source": [
    "dir_path1 = \"../demos/hello-world\"\n",
    "contract_name1 = \"hello\"\n",
    "with open(f\"{dir_path1}/{contract_name1}.etch\", 'r') as file:\n",
    "    contract_text1 = file.read()\n",
    "print(len(contract_text1))"
   ]
  },
  {
   "cell_type": "code",
   "execution_count": 4,
   "metadata": {},
   "outputs": [
    {
     "name": "stdout",
     "output_type": "stream",
     "text": [
      "49\n",
      "159\n",
      "1106\n",
      "1331\n"
     ]
    }
   ],
   "source": [
    "with open(f\"{dir_path1}/{contract_name1}.etch\", 'r') as file:\n",
    "    lines=0\n",
    "    words=0\n",
    "    characters=0\n",
    "    length=0\n",
    "    for line in file:\n",
    "        wordslist=line.split()\n",
    "        lines=lines+1\n",
    "        words=words+len(wordslist)\n",
    "        characters += sum(len(word) for word in wordslist)\n",
    "        length += len(line)\n",
    "print(lines)\n",
    "print(words)\n",
    "print(characters)\n",
    "print(length)"
   ]
  },
  {
   "cell_type": "code",
   "execution_count": 5,
   "metadata": {},
   "outputs": [],
   "source": [
    "dir_path2 = \"../demos/pet-shop\"\n",
    "contract_name2 = \"adoption\"\n",
    "with open(f\"{dir_path2}/{contract_name2}.etch\", 'r') as file:\n",
    "    contract_text2 = file.read()"
   ]
  },
  {
   "cell_type": "code",
   "execution_count": 6,
   "metadata": {},
   "outputs": [
    {
     "data": {
      "text/plain": [
       "True"
      ]
     },
     "execution_count": 6,
     "metadata": {},
     "output_type": "execute_result"
    }
   ],
   "source": [
    "session.is_connected()"
   ]
  },
  {
   "cell_type": "markdown",
   "metadata": {},
   "source": [
    "### 1) hello-world"
   ]
  },
  {
   "cell_type": "code",
   "execution_count": 7,
   "metadata": {},
   "outputs": [
    {
     "name": "stdout",
     "output_type": "stream",
     "text": [
      "//------------------------------------------------------------------------------\n",
      "//\n",
      "//   Copyright 2019 Fetch.AI Limited\n",
      "//\n",
      "//   Licensed under the Apache License, Version 2.0 (the \"License\");\n",
      "//   you may not use this file except in compliance with the License.\n",
      "//   You may obtain a copy of the License at\n",
      "//\n",
      "//       http://www.apache.org/licenses/LICENSE-2.0\n",
      "//\n",
      "//   Unless required by applicable law or agreed to in writing, software\n",
      "//   distributed under the License is distributed on an \"AS IS\" BASIS,\n",
      "//   WITHOUT WARRANTIES OR CONDITIONS OF ANY KIND, either express or implied.\n",
      "//   See the License for the specific language governing permissions and\n",
      "//   limitations under the License.\n",
      "//\n",
      "//------------------------------------------------------------------------------\n",
      "\n",
      "// This contract require release v0.10.1 alpha or above\n",
      "// Note that this is experimental functionality\n",
      "\n",
      "\n",
      "@init\n",
      "function createMessage(owner : Address)\n",
      "\n",
      "    var name : String = \"World\";\n",
      "    var state = State<String>(\"greetings\");\n",
      "    state.set(name);\n",
      "\n",
      "\n",
      "endfunction\n",
      "\n",
      "\n",
      "@action\n",
      "function changeGreeting(recipient: String)\n",
      "\n",
      "    var state = State<String>(\"greetings\");\n",
      "    state.set(recipient);\n",
      "\n",
      "endfunction\n",
      "\n",
      "\n",
      "@query\n",
      "function persistentGreeting() : String\n",
      "\n",
      "    var state = State<String>(\"greetings\");\n",
      "    return \"Hello \" + state.get() + \"!\";\n",
      "\n",
      "endfunction\n",
      "\n"
     ]
    }
   ],
   "source": [
    "print(contract_text1)"
   ]
  },
  {
   "cell_type": "code",
   "execution_count": 8,
   "metadata": {},
   "outputs": [
    {
     "name": "stderr",
     "output_type": "stream",
     "text": [
      "WARNING:root:Defaulting to wildcard shard mask as none supplied\n"
     ]
    }
   ],
   "source": [
    "# Owner will be randomly created by default\n",
    "session.deploy(contract_name1, contract_text1)"
   ]
  },
  {
   "cell_type": "code",
   "execution_count": 9,
   "metadata": {},
   "outputs": [
    {
     "name": "stdout",
     "output_type": "stream",
     "text": [
      "Contract owner's balance: 17320\n"
     ]
    }
   ],
   "source": [
    "owner = session.entities[f'{contract_name1}_owner']\n",
    "print(\"Contract owner's balance: \" + str(session.balance(Address(owner))))"
   ]
  },
  {
   "cell_type": "code",
   "execution_count": 10,
   "metadata": {},
   "outputs": [
    {
     "name": "stdout",
     "output_type": "stream",
     "text": [
      "Contract object:  <fetchai.ledger.contract.Contract object at 0x7f99971e75f8>\n",
      "\n",
      "Contract address:  2TsgissWu8BZ5kQjqPq8Y92RxUBLRB5Sxqdp75rTVLKzUaP9Lm\n",
      "\n",
      "Contract functions:  defaultdict(<class 'list'>, {'action': ['changeGreeting'], 'query': ['persistentGreeting']})\n",
      "\n",
      "Owner address:  2AdGg4otAo92siirSa9vdP96VmPRtYmvNqfXP12vzoewPoJQ5g\n",
      "\n"
     ]
    }
   ],
   "source": [
    "print(\"Contract object:  \" + str(session.contracts['hello'].contract) + \"\\n\")\n",
    "print(\"Contract address:  \" + str(session.contracts['hello'].contract._address) + \"\\n\")\n",
    "print(\"Contract functions:  \" + str(session.contracts['hello'].funcs) + \"\\n\")\n",
    "print(\"Owner address:  \" + str(Address(session.contracts['hello'].owner)) + \"\\n\")"
   ]
  },
  {
   "cell_type": "code",
   "execution_count": 11,
   "metadata": {},
   "outputs": [
    {
     "data": {
      "text/plain": [
       "{'hello_owner': <fetchai.ledger.crypto.entity.Entity at 0x7f99971e9d30>}"
      ]
     },
     "execution_count": 11,
     "metadata": {},
     "output_type": "execute_result"
    }
   ],
   "source": [
    "session.entities"
   ]
  },
  {
   "cell_type": "code",
   "execution_count": 12,
   "metadata": {},
   "outputs": [
    {
     "data": {
      "text/plain": [
       "{'timestamp': 1575824955,\n",
       " 'miner': 'CsQweks6sQvC9mi6sxaK7NC6LdGrvRKsoizVi4nDYBWnsjVhe',\n",
       " 'entropy': 1449310910991872227,\n",
       " 'weight': 53,\n",
       " 'merkleHash': '0xf3fbdd14ce54c445f4f2ab5fb07519017f0e44d6ab8f61b44876eb10567f8915',\n",
       " 'blockNumber': 53522,\n",
       " 'previousHash': '0x70b53770f2cf238e7917401e02d36c4f6914bc7b832ac3dfc766389aaeb8f18f',\n",
       " 'hash': '0xe293ce931eb37d3579761672c662dd903602667191a6e01b378a36350eec3d96'}"
      ]
     },
     "execution_count": 12,
     "metadata": {},
     "output_type": "execute_result"
    }
   ],
   "source": [
    "success, data = session.api.tokens._get_json('status/chain', size=1)\n",
    "result = data['chain'][0]\n",
    "result"
   ]
  },
  {
   "cell_type": "code",
   "execution_count": 13,
   "metadata": {},
   "outputs": [
    {
     "data": {
      "text/plain": [
       "'2019-12-07 17:05:06 GMT-4'"
      ]
     },
     "execution_count": 13,
     "metadata": {},
     "output_type": "execute_result"
    }
   ],
   "source": [
    "import datetime\n",
    "\n",
    "n = 1575756306\n",
    "dt = datetime.datetime.fromtimestamp(n).strftime(\"%Y-%m-%d %H:%M:%S\")\n",
    "v = f\"{dt} GMT-4\"\n",
    "v"
   ]
  },
  {
   "cell_type": "code",
   "execution_count": 14,
   "metadata": {},
   "outputs": [
    {
     "name": "stdout",
     "output_type": "stream",
     "text": [
      "Timestamp: 2019-12-08 12:09:15 GMT-4  \n",
      "Miner: CsQweks6sQvC9mi6sxaK7NC6LdGrvRKsoizVi4nDYBWnsjVhe  \n",
      "Entropy: 1449310910991872227  \n",
      "Weight: 53  \n",
      "Merklehash: 0xf3fbdd14ce54c445f4f2ab5fb07519017f0e44d6ab8f61b44876eb10567f8915  \n",
      "Blocknumber: 53522  \n",
      "Previoushash: 0x70b53770f2cf238e7917401e02d36c4f6914bc7b832ac3dfc766389aaeb8f18f  \n",
      "Hash: 0xe293ce931eb37d3579761672c662dd903602667191a6e01b378a36350eec3d96  \n",
      "\n"
     ]
    }
   ],
   "source": [
    "print(session.get_blockchain_info())"
   ]
  },
  {
   "cell_type": "code",
   "execution_count": 15,
   "metadata": {},
   "outputs": [
    {
     "data": {
      "text/plain": [
       "'Hello World!'"
      ]
     },
     "execution_count": 15,
     "metadata": {},
     "output_type": "execute_result"
    }
   ],
   "source": [
    "session.query('hello', 'persistentGreeting')"
   ]
  },
  {
   "cell_type": "code",
   "execution_count": 16,
   "metadata": {},
   "outputs": [
    {
     "name": "stderr",
     "output_type": "stream",
     "text": [
      "WARNING:root:Couldn't auto-detect used shards, using wildcard shard mask\n",
      "WARNING:root:Defaulting to wildcard shard mask as none supplied\n"
     ]
    },
    {
     "data": {
      "text/plain": [
       "[<fetchai.ledger.api.tx.TxStatus at 0x7f999710cba8>]"
      ]
     },
     "execution_count": 16,
     "metadata": {},
     "output_type": "execute_result"
    }
   ],
   "source": [
    "session.action('hello', 'changeGreeting', 500, [owner], \"User123\")"
   ]
  },
  {
   "cell_type": "code",
   "execution_count": 17,
   "metadata": {},
   "outputs": [
    {
     "data": {
      "text/plain": [
       "'Hello User123!'"
      ]
     },
     "execution_count": 17,
     "metadata": {},
     "output_type": "execute_result"
    }
   ],
   "source": [
    "session.query('hello', 'persistentGreeting')"
   ]
  },
  {
   "cell_type": "markdown",
   "metadata": {},
   "source": [
    "### 2) pet-shop"
   ]
  },
  {
   "cell_type": "code",
   "execution_count": 18,
   "metadata": {},
   "outputs": [
    {
     "name": "stderr",
     "output_type": "stream",
     "text": [
      "WARNING:root:Defaulting to wildcard shard mask as none supplied\n"
     ]
    }
   ],
   "source": [
    "session.deploy(contract_name2, contract_text2)"
   ]
  },
  {
   "cell_type": "code",
   "execution_count": 19,
   "metadata": {},
   "outputs": [
    {
     "data": {
      "text/plain": [
       "{'hello': <utils.contractinfo.ContractInfo at 0x7f99971245c0>,\n",
       " 'adoption': <utils.contractinfo.ContractInfo at 0x7f99970996d8>}"
      ]
     },
     "execution_count": 19,
     "metadata": {},
     "output_type": "execute_result"
    }
   ],
   "source": [
    "session.contracts"
   ]
  },
  {
   "cell_type": "code",
   "execution_count": 20,
   "metadata": {},
   "outputs": [
    {
     "name": "stdout",
     "output_type": "stream",
     "text": [
      "Contract object:  <fetchai.ledger.contract.Contract object at 0x7f99970de860>\n",
      "\n",
      "Contract address:  LtmyWjarob9TSM82GLBWNdQ1gHfW8BLMGJCohnxg2hV77JmYT\n",
      "\n",
      "Contract functions:  defaultdict(<class 'list'>, {'action': ['adopt'], 'query': ['getAdopters', 'getAdopterOfPet']})\n",
      "\n",
      "Owner address:  2AdGg4otAo92siirSa9vdP96VmPRtYmvNqfXP12vzoewPoJQ5g\n",
      "\n"
     ]
    }
   ],
   "source": [
    "print(\"Contract object:  \" + str(session.contracts['adoption'].contract)  + \"\\n\")\n",
    "print(\"Contract address:  \" + str(session.contracts['adoption'].contract._address)  + \"\\n\")\n",
    "print(\"Contract functions:  \" + str(session.contracts['adoption'].funcs)  + \"\\n\")\n",
    "print(\"Owner address:  \" + str(Address(session.contracts['adoption'].owner))  + \"\\n\")"
   ]
  },
  {
   "cell_type": "code",
   "execution_count": 21,
   "metadata": {},
   "outputs": [],
   "source": [
    "# 4 adoption adopters (need to separate)\n",
    "session.add_entity('adopter1')\n",
    "session.add_entity('adopter2')\n",
    "session.add_entity('adopter3')\n",
    "session.add_entity('adopter4')"
   ]
  },
  {
   "cell_type": "code",
   "execution_count": 22,
   "metadata": {},
   "outputs": [
    {
     "data": {
      "text/plain": [
       "{'hello_owner': <fetchai.ledger.crypto.entity.Entity at 0x7f99971e9d30>,\n",
       " 'adoption_owner': <fetchai.ledger.crypto.entity.Entity at 0x7f99971e9d30>,\n",
       " 'adopter1': <fetchai.ledger.crypto.entity.Entity at 0x7f9996f53518>,\n",
       " 'adopter2': <fetchai.ledger.crypto.entity.Entity at 0x7f9996f530b8>,\n",
       " 'adopter3': <fetchai.ledger.crypto.entity.Entity at 0x7f9996f537b8>,\n",
       " 'adopter4': <fetchai.ledger.crypto.entity.Entity at 0x7f99970670b8>}"
      ]
     },
     "execution_count": 22,
     "metadata": {},
     "output_type": "execute_result"
    }
   ],
   "source": [
    "session.entities"
   ]
  },
  {
   "cell_type": "code",
   "execution_count": 23,
   "metadata": {},
   "outputs": [],
   "source": [
    "# instantiate adopter entities\n",
    "adopter1 = session.entities['adopter1']\n",
    "adopter2 = session.entities['adopter2']\n",
    "adopter3 = session.entities['adopter3']\n",
    "adopter4 = session.entities['adopter4']"
   ]
  },
  {
   "cell_type": "code",
   "execution_count": 24,
   "metadata": {},
   "outputs": [
    {
     "name": "stdout",
     "output_type": "stream",
     "text": [
      "Adopter1's address:   DXZ5jJjTFXqAx4GfZAEgrmsfrwPxLZCr7rmUXjLBTDnZ6Z8P3\n",
      "Adopter2's address:   2c8oh616hFtzsFQLEsvwJMCQ6ukoLY217vi632gwDMhzmtwmE3\n",
      "Adopter3's address:   roN7FPsbo17AjnYSoo2tpQ8gYuPMpfZaRev2EpCm4oswiRLsN\n",
      "Adopter4's address:   qNvw2UiUKWGXCanfk64pGs1pSbW54F7FDdNW6xiKaFyZF7Z4s\n"
     ]
    }
   ],
   "source": [
    "print(\"Adopter1's address:   \" + str(Address(adopter1)))\n",
    "print(\"Adopter2's address:   \" + str(Address(adopter2)))\n",
    "print(\"Adopter3's address:   \" + str(Address(adopter3)))\n",
    "print(\"Adopter4's address:   \" + str(Address(adopter4)))"
   ]
  },
  {
   "cell_type": "code",
   "execution_count": 25,
   "metadata": {},
   "outputs": [
    {
     "name": "stdout",
     "output_type": "stream",
     "text": [
      "Adopter1's FET balance:   10000\n",
      "Adopter2's FET balance:   10000\n",
      "Adopter3's FET balance:   10000\n",
      "Adopter4's FET balance:   10000\n"
     ]
    }
   ],
   "source": [
    "print(\"Adopter1's FET balance:   \" + str(session.balance(Address(adopter1))))\n",
    "print(\"Adopter2's FET balance:   \" + str(session.balance(Address(adopter2))))\n",
    "print(\"Adopter3's FET balance:   \" + str(session.balance(Address(adopter3))))\n",
    "print(\"Adopter4's FET balance:   \" + str(session.balance(Address(adopter4))))"
   ]
  },
  {
   "cell_type": "markdown",
   "metadata": {},
   "source": [
    "First, query `getAdopters` function to see which pets are adopted."
   ]
  },
  {
   "cell_type": "code",
   "execution_count": 26,
   "metadata": {},
   "outputs": [],
   "source": [
    "# Printing message\n",
    "result = session.query('adoption', 'getAdopters')\n",
    "# result = contract2.query(api, 'getAdopters')"
   ]
  },
  {
   "cell_type": "markdown",
   "metadata": {},
   "source": [
    "No pets have been adopted yet."
   ]
  },
  {
   "cell_type": "code",
   "execution_count": 27,
   "metadata": {},
   "outputs": [
    {
     "name": "stdout",
     "output_type": "stream",
     "text": [
      "{}\n"
     ]
    }
   ],
   "source": [
    "print(result)"
   ]
  },
  {
   "cell_type": "markdown",
   "metadata": {},
   "source": [
    "Next, **adopter1** picks a pet to adopt. Let's say the pet on index 5."
   ]
  },
  {
   "cell_type": "code",
   "execution_count": 28,
   "metadata": {},
   "outputs": [],
   "source": [
    "# First, initialize FET tx fee amount\n",
    "tx_fee = 500"
   ]
  },
  {
   "cell_type": "code",
   "execution_count": 29,
   "metadata": {},
   "outputs": [
    {
     "data": {
      "text/plain": [
       "[<fetchai.ledger.api.tx.TxStatus at 0x7f99971cfd30>]"
      ]
     },
     "execution_count": 29,
     "metadata": {},
     "output_type": "execute_result"
    }
   ],
   "source": [
    "# Execute adoption smart contract\n",
    "pet_id = 5\n",
    "session.action('adoption', 'adopt', tx_fee, [adopter1], pet_id)\n",
    "# api.sync(contract2.action(api, 'adopt', fet_tx_fee, [adopter1], pet_id))"
   ]
  },
  {
   "cell_type": "markdown",
   "metadata": {},
   "source": [
    "Now `getAdopters` function should have one element."
   ]
  },
  {
   "cell_type": "code",
   "execution_count": 30,
   "metadata": {},
   "outputs": [
    {
     "name": "stdout",
     "output_type": "stream",
     "text": [
      "{'5': 'DXZ5jJjTFXqAx4GfZAEgrmsfrwPxLZCr7rmUXjLBTDnZ6Z8P3'}\n"
     ]
    }
   ],
   "source": [
    "result = session.query('adoption', 'getAdopters')\n",
    "print(result)"
   ]
  },
  {
   "cell_type": "markdown",
   "metadata": {},
   "source": [
    "Next, **adopter2** and **adopter3** adopt pets on index 7 and 9 respectively. They may need to increase the `fet_tx_fee` in order for the tx to o through."
   ]
  },
  {
   "cell_type": "code",
   "execution_count": 31,
   "metadata": {},
   "outputs": [],
   "source": [
    "pet_id = 7\n",
    "result = session.action('adoption', 'adopt', tx_fee, [adopter2], pet_id)\n",
    "pet_id = 9\n",
    "result = session.action('adoption', 'adopt', tx_fee, [adopter3], pet_id)"
   ]
  },
  {
   "cell_type": "code",
   "execution_count": 32,
   "metadata": {},
   "outputs": [
    {
     "name": "stdout",
     "output_type": "stream",
     "text": [
      "{'7': '2c8oh616hFtzsFQLEsvwJMCQ6ukoLY217vi632gwDMhzmtwmE3', '9': 'roN7FPsbo17AjnYSoo2tpQ8gYuPMpfZaRev2EpCm4oswiRLsN', '5': 'DXZ5jJjTFXqAx4GfZAEgrmsfrwPxLZCr7rmUXjLBTDnZ6Z8P3'}\n"
     ]
    }
   ],
   "source": [
    "result = session.query('adoption', 'getAdopters')\n",
    "print(result)"
   ]
  },
  {
   "cell_type": "markdown",
   "metadata": {},
   "source": [
    "Finally, its **adopter4's** turn to adopt a pet, but is a bit clueless about how the system works. First, he tries to adopt a pet on index 16. However, there is no index 16 (only 0-15 is valid) so the assert error msg `assert(petId >= 0 && petId <= 15)` will instead be printed out. So there will be a runtime error in the Python SDK."
   ]
  },
  {
   "cell_type": "code",
   "execution_count": 33,
   "metadata": {
    "scrolled": true
   },
   "outputs": [
    {
     "ename": "RuntimeError",
     "evalue": "Some transactions have failed: ae42b2472eef726732712b9c4556d55b35885de842c7c67f4ed588f79dc28864:Contract Execution Failure",
     "output_type": "error",
     "traceback": [
      "\u001b[0;31m---------------------------------------------------------------------------\u001b[0m",
      "\u001b[0;31mRuntimeError\u001b[0m                              Traceback (most recent call last)",
      "\u001b[0;32m<ipython-input-33-8cc0b4ebde92>\u001b[0m in \u001b[0;36m<module>\u001b[0;34m\u001b[0m\n\u001b[1;32m      1\u001b[0m \u001b[0mpet_id\u001b[0m \u001b[0;34m=\u001b[0m \u001b[0;36m16\u001b[0m\u001b[0;34m\u001b[0m\u001b[0;34m\u001b[0m\u001b[0m\n\u001b[0;32m----> 2\u001b[0;31m \u001b[0mresult\u001b[0m \u001b[0;34m=\u001b[0m \u001b[0msession\u001b[0m\u001b[0;34m.\u001b[0m\u001b[0maction\u001b[0m\u001b[0;34m(\u001b[0m\u001b[0;34m'adoption'\u001b[0m\u001b[0;34m,\u001b[0m \u001b[0;34m'adopt'\u001b[0m\u001b[0;34m,\u001b[0m \u001b[0mtx_fee\u001b[0m\u001b[0;34m,\u001b[0m \u001b[0;34m[\u001b[0m\u001b[0madopter4\u001b[0m\u001b[0;34m]\u001b[0m\u001b[0;34m,\u001b[0m \u001b[0mpet_id\u001b[0m\u001b[0;34m)\u001b[0m\u001b[0;34m\u001b[0m\u001b[0;34m\u001b[0m\u001b[0m\n\u001b[0m",
      "\u001b[0;32m~/Dropbox/workspace/fetchai/etch-demos/app/utils/session.py\u001b[0m in \u001b[0;36maction\u001b[0;34m(self, contract_name, func_name, tx_fee, signers, *params)\u001b[0m\n\u001b[1;32m     57\u001b[0m         \u001b[0mcontract\u001b[0m \u001b[0;34m=\u001b[0m \u001b[0mname\u001b[0m\u001b[0;34m.\u001b[0m\u001b[0mcontract\u001b[0m\u001b[0;34m\u001b[0m\u001b[0;34m\u001b[0m\u001b[0m\n\u001b[1;32m     58\u001b[0m         return self.api.sync(contract.action(self.api, func_name, tx_fee,\n\u001b[0;32m---> 59\u001b[0;31m                                              signers, *params))\n\u001b[0m\u001b[1;32m     60\u001b[0m \u001b[0;34m\u001b[0m\u001b[0m\n\u001b[1;32m     61\u001b[0m     \u001b[0;32mdef\u001b[0m \u001b[0mquery\u001b[0m\u001b[0;34m(\u001b[0m\u001b[0mself\u001b[0m\u001b[0;34m,\u001b[0m \u001b[0mcontract_name\u001b[0m\u001b[0;34m,\u001b[0m \u001b[0mfunc_name\u001b[0m\u001b[0;34m)\u001b[0m\u001b[0;34m:\u001b[0m\u001b[0;34m\u001b[0m\u001b[0;34m\u001b[0m\u001b[0m\n",
      "\u001b[0;32m~/anaconda3/envs/py3.6/lib/python3.6/site-packages/fetchai_ledger_api-0.11.0a1-py3.6.egg/fetchai/ledger/api/__init__.py\u001b[0m in \u001b[0;36msync\u001b[0;34m(self, txs, timeout, hold_state_sec, extend_success_status)\u001b[0m\n\u001b[1;32m    114\u001b[0m                 failures = ['{}:{}'.format(tx_status.digest_hex, tx_status.status) \\\n\u001b[1;32m    115\u001b[0m                             for tx_status in failed_this_round]\n\u001b[0;32m--> 116\u001b[0;31m                 \u001b[0;32mraise\u001b[0m \u001b[0mRuntimeError\u001b[0m\u001b[0;34m(\u001b[0m\u001b[0;34m'Some transactions have failed: {}'\u001b[0m\u001b[0;34m.\u001b[0m\u001b[0mformat\u001b[0m\u001b[0;34m(\u001b[0m\u001b[0;34m', '\u001b[0m\u001b[0;34m.\u001b[0m\u001b[0mjoin\u001b[0m\u001b[0;34m(\u001b[0m\u001b[0mfailures\u001b[0m\u001b[0;34m)\u001b[0m\u001b[0;34m)\u001b[0m\u001b[0;34m)\u001b[0m\u001b[0;34m\u001b[0m\u001b[0;34m\u001b[0m\u001b[0m\n\u001b[0m\u001b[1;32m    117\u001b[0m             \u001b[0mnow\u001b[0m \u001b[0;34m=\u001b[0m \u001b[0mdatetime\u001b[0m\u001b[0;34m.\u001b[0m\u001b[0mnow\u001b[0m\u001b[0;34m(\u001b[0m\u001b[0;34m)\u001b[0m\u001b[0;34m\u001b[0m\u001b[0;34m\u001b[0m\u001b[0m\n\u001b[1;32m    118\u001b[0m             \u001b[0;31m# Detect transactions with a successful status\u001b[0m\u001b[0;34m\u001b[0m\u001b[0;34m\u001b[0m\u001b[0;34m\u001b[0m\u001b[0m\n",
      "\u001b[0;31mRuntimeError\u001b[0m: Some transactions have failed: ae42b2472eef726732712b9c4556d55b35885de842c7c67f4ed588f79dc28864:Contract Execution Failure"
     ]
    }
   ],
   "source": [
    "pet_id = 16\n",
    "result = session.action('adoption', 'adopt', tx_fee, [adopter4], pet_id)"
   ]
  },
  {
   "cell_type": "markdown",
   "metadata": {},
   "source": [
    "See the ledger console for the actual `assert` error message:\n",
    "\n",
    "```\n",
    "[I] 2019/11/29 18:23:41 | SmartContract                  : Runtime error: runtime error: line 40: Assertion error: Valid indexes are between 0-15.\n",
    "[W] 2019/11/29 18:23:41 | Executor                       : Transaction execution failed!\n",
    "[I] 2019/11/29 18:23:41 | BlockCoordinator               : Skipped 3 duplicate messages..\n",
    "[I] 2019/11/29 18:23:41 | BlockCoordinator               : Merkle Hash3: \n",
    "[W] 2019/11/29 18:23:41 | ExecutionManager               : Error executing tx: 0xe9c92243c469898db34feb6c51fb1793fb9b707496ed566549e272f448121c67 status: Contract Execution Failure\n",
    "[W] 2019/11/29 18:23:41 | ExecutionManager               : Slice 0 Execution Status - Complete: 0 Stalls: 0 Errors: 1 Fatal Errors: 0\n",
    "```\n"
   ]
  },
  {
   "cell_type": "markdown",
   "metadata": {},
   "source": [
    "Next, **adopter4's** tries to adopt a pet on index 9, but is already taken by **adopter3**, as outputed by assert error msg `assert(petId >= 0 && petId <= 15)`."
   ]
  },
  {
   "cell_type": "code",
   "execution_count": null,
   "metadata": {},
   "outputs": [],
   "source": [
    "pet_id = 9\n",
    "result = session.action('adoption', 'adopt', tx_fee, [adopter4], pet_id)"
   ]
  },
  {
   "cell_type": "markdown",
   "metadata": {},
   "source": [
    "Now **adopter4** has gotten the memo and decided to settle on adopting the pet on index 11, which is still available."
   ]
  },
  {
   "cell_type": "code",
   "execution_count": 34,
   "metadata": {},
   "outputs": [],
   "source": [
    "pet_id = 11\n",
    "result = session.action('adoption', 'adopt', tx_fee, [adopter4], pet_id)"
   ]
  },
  {
   "cell_type": "markdown",
   "metadata": {},
   "source": [
    "Here is the final `StructuredData` printout with the 4 adopters' addresses and their chosen pet indexes."
   ]
  },
  {
   "cell_type": "code",
   "execution_count": 35,
   "metadata": {
    "scrolled": true
   },
   "outputs": [
    {
     "name": "stdout",
     "output_type": "stream",
     "text": [
      "{'7': '2c8oh616hFtzsFQLEsvwJMCQ6ukoLY217vi632gwDMhzmtwmE3', '11': 'qNvw2UiUKWGXCanfk64pGs1pSbW54F7FDdNW6xiKaFyZF7Z4s', '5': 'DXZ5jJjTFXqAx4GfZAEgrmsfrwPxLZCr7rmUXjLBTDnZ6Z8P3', '9': 'roN7FPsbo17AjnYSoo2tpQ8gYuPMpfZaRev2EpCm4oswiRLsN'}\n"
     ]
    }
   ],
   "source": [
    "result = session.query('adoption', 'getAdopters')\n",
    "print(result)"
   ]
  },
  {
   "cell_type": "markdown",
   "metadata": {},
   "source": [
    "### 3) interact"
   ]
  },
  {
   "cell_type": "code",
   "execution_count": 36,
   "metadata": {},
   "outputs": [
    {
     "name": "stdout",
     "output_type": "stream",
     "text": [
      "hello\n",
      "adoption\n"
     ]
    }
   ],
   "source": [
    "for contract_name in session.contracts.keys():\n",
    "    print(contract_name)"
   ]
  },
  {
   "cell_type": "code",
   "execution_count": 37,
   "metadata": {},
   "outputs": [
    {
     "name": "stdout",
     "output_type": "stream",
     "text": [
      "['persistentGreeting']\n",
      "['changeGreeting']\n",
      "['getAdopters', 'getAdopterOfPet']\n",
      "['adopt']\n"
     ]
    }
   ],
   "source": [
    "for contract in session.contracts.values():\n",
    "    print(contract.funcs['query'])\n",
    "    print(contract.funcs['action'])"
   ]
  },
  {
   "cell_type": "code",
   "execution_count": 38,
   "metadata": {},
   "outputs": [
    {
     "name": "stdout",
     "output_type": "stream",
     "text": [
      "persistentGreeting\n"
     ]
    }
   ],
   "source": [
    "# get hello.etch @query\n",
    "for funcname in session.contracts['hello'].funcs['query']:\n",
    "    print(funcname)"
   ]
  },
  {
   "cell_type": "code",
   "execution_count": 39,
   "metadata": {},
   "outputs": [
    {
     "name": "stdout",
     "output_type": "stream",
     "text": [
      "hello_owner\n",
      "adoption_owner\n",
      "adopter1\n",
      "adopter2\n",
      "adopter3\n",
      "adopter4\n"
     ]
    }
   ],
   "source": [
    "for entity_name in session.entities.keys():\n",
    "    print(entity_name)"
   ]
  },
  {
   "cell_type": "code",
   "execution_count": 40,
   "metadata": {},
   "outputs": [
    {
     "data": {
      "text/plain": [
       "'Address: 2AdGg4otAo92siirSa9vdP96VmPRtYmvNqfXP12vzoewPoJQ5g  \\nBalance: 33926  \\n'"
      ]
     },
     "execution_count": 40,
     "metadata": {},
     "output_type": "execute_result"
    }
   ],
   "source": [
    "session.get_entity_info('hello_owner')"
   ]
  }
 ],
 "metadata": {
  "kernelspec": {
   "display_name": "Python 3.6",
   "language": "python",
   "name": "py3.6"
  },
  "language_info": {
   "codemirror_mode": {
    "name": "ipython",
    "version": 3
   },
   "file_extension": ".py",
   "mimetype": "text/x-python",
   "name": "python",
   "nbconvert_exporter": "python",
   "pygments_lexer": "ipython3",
   "version": "3.6.9"
  }
 },
 "nbformat": 4,
 "nbformat_minor": 2
}
